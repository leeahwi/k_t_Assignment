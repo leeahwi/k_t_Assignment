{
 "cells": [
  {
   "cell_type": "markdown",
   "id": "c2d69b98",
   "metadata": {},
   "source": [
    "# Assignment 2\n",
    "### 2018136092 이아휘"
   ]
  },
  {
   "cell_type": "markdown",
   "id": "361e928a",
   "metadata": {},
   "source": [
    "#### 1. 다음 6 개의 Expression에 대해 Evaluation 결과 값을 출력하고, 해당 결과가 나온 이유에 대해 설명하시오.<br>"
   ]
  },
  {
   "cell_type": "code",
   "execution_count": 48,
   "id": "6b065eb3",
   "metadata": {},
   "outputs": [
    {
     "name": "stdout",
     "output_type": "stream",
     "text": [
      "4\n",
      "1\n",
      "2\n",
      "2\n",
      "1\n",
      "3\n"
     ]
    }
   ],
   "source": [
    "print(1 and 2 and 3 and 4)\n",
    "print(1 or 2 or 3 or 4)\n",
    "print(1 and 2 or 3 and 4)\n",
    "print((1 and 2) or (3 and 4))\n",
    "print(1 or 2 and 3 or 4)\n",
    "print((1 or 2) and (3 or 4))"
   ]
  },
  {
   "cell_type": "markdown",
   "id": "4db62ded",
   "metadata": {},
   "source": [
    "##### [문제 1. 설명]<br>\n",
    "   1. and 논리의 경우 앞 피연산자가 True여도 뒤의 피연산자까지 체크해야 하므로 1 and 2는 2가 반환될 것이다.<br>\n",
    "       * 같은 논리로 and 논리 연산을 계속하면 마지막 피연산자인 4가 남는데 TRUE가 출력되지 않는 이유가 존재한다.<br>\n",
    "       * 파이썬에서 논리 연산자는 마지막으로 단락 평가를 실시한 값을 그대로 반환하기 때문이다. 무조건 불값을 반환하지 않는다<br>\n",
    "       * 따라서 and 논리 연산 마지막 평가한 피연산자 4가 출력됐다.<br>\n",
    "   <br>\n",
    "   2. or 논리 연산의 경우 단락 평가로 실시할시 앞 피연산자가 TRUE값이면 뒤의 값을 계산하지 않는다.<br>\n",
    "       * 그렇기에 이미 1 이라는 피연산자가 TRUE 이기에 단락 평가에 의해서 뒤의 값을 확인하지 않고 1을 출력했다.<br>\n",
    "   <br>\n",
    "   3. and 연산이 or 연산보다 우선순위에 있기에 and 연산이면서 앞에서 부터 판단을 시작한다.<br>\n",
    "       * 순서를 따지면 1 and 2 -> 3 and 4 한뒤에 or 연산자가 계산된다.<br>\n",
    "       * 1 and 2 -> 2가 반환이 되고 3 and 4 -> 4가 반환 되기에 결국 3번 구문은 2 or 4 이다.<br>\n",
    "       * 앞 2번 문제에서도 설명했듯이 or 논리 연산자는 앞 피연산자가 TRUE 값이면 뒤의 값을 확인하지 않는다. 따라서 2가 출력됬다.<br>\n",
    "   <br>\n",
    "   4. 이번에는 괄호가 있기에 더 직관적이나 3번과 순서는 똑같은 것을 볼 수 있기에 결과는 2로 나옴을 알 수 있다.<br>\n",
    "   <br> \n",
    "   5. 뒤에 and와 or이 있지만 맨 처음 1 or 부분에서 이미 TRUE 값인 1이 존재하기에 더 볼 필요도 없이 단락평가에 의해 1이 출력된다.<br>\n",
    "   <br>\n",
    "   6. 괄호과 씌워져 있다면 계산을 해볼 필요가 있다. 앞에서 부터 계산하면 1 or 2는 1이다 3 or 4는 3이 반환될 것이다.<br>\n",
    "       * 결국 1 and 3 이기에 and 논리 연산자의 마지막 단락평가가 실시된 피연산자인 3이 출력된 것이다.<br>\n",
    "    \n"
   ]
  },
  {
   "cell_type": "markdown",
   "id": "82591b8f",
   "metadata": {},
   "source": [
    "#### 2. 경로에 해당하는 문자열 1개를 입력 받아 그 안에 디렉토리 경로명과 파일명을 분리하여 리스트로 반환하는 함수 div_path(s)를 작성하시오.<br>\n",
    "* 인자로 전달하는 문자열은 경로만 들어간다고 가정한다.<br>\n",
    "* 각 디렉토리와 파일을 구분하는 문자는 '/'로 가정한다.<br>\n",
    "* 반환하는 리스트의 첫번째 원소는 디렉토리이고 두번째 원소는 파일명이다.<br>\n",
    "* 다음과 같은 실행 및 출력 결과가 도출되어야 한다.<br>\n",
    "    * div_path('/usr/local/bin/python')<br>\n",
    "        * ['/usr/local/bin', 'python']<br>\n",
    "    * div_path('/home/chulsoo/test.txt')<br>\n",
    "        * ['/home/chulsoo', 'test.txt']<br>\n",
    "* [참고] 리스트(l) 내에 새로운 정수값 (예를 들어 10)을 넣는 방법은 l.append(10) 이다.<br>"
   ]
  },
  {
   "cell_type": "code",
   "execution_count": 49,
   "id": "09170bf5",
   "metadata": {},
   "outputs": [
    {
     "name": "stdout",
     "output_type": "stream",
     "text": [
      "['/home/chulsoo', 'test.txt']\n"
     ]
    }
   ],
   "source": [
    "def div_path(path):\n",
    "    result_list = []\n",
    "    split_path = path.split('/')\n",
    "    result_list.append('/'.join(split_path[0:-1]))\n",
    "    result_list.append(''.join(split_path[-1]))\n",
    "    print(result_list)\n",
    "\n",
    "div_path('/home/chulsoo/test.txt')"
   ]
  },
  {
   "cell_type": "markdown",
   "id": "07e0359d",
   "metadata": {},
   "source": [
    "##### [문제 2. 설명]<br>\n",
    "   * 문제의 요구대로 문자열을 넣었을때 '/' 문자로 구분이 되야 했다.<br>\n",
    "   * 또한 파일명과 디렉토리를 나누어야 했기에 일단은 result_list 라는 빈 리스트를 만들었다.<br>\n",
    "   * 그 뒤 입력받은 경로를 '/'로 나누었다. split_path = path.split('/') 구문이다.<br>\n",
    "   * split_path 는 나눠진 문자들이고 마지막 문자가 파일명이기에 마지막 단어를 제외한 나머지는 '/' 문자를 사이에 넣어 다시 조합을 했다.<br>\n",
    "   * '/'.join(split_path[0:-1]) 구문을 통해서 '/home/chulsoo' 요소를 재조합해주었다고 생각하면 된다.<br>\n",
    "   * 그 뒤로 마지막 파일명인 'test.txt' 추가하는 문자 없이 result_list에 append 추가 하였다.<br>\n",
    "   * 원하는 결과가 제대로 출력됨을 볼 수 있다.<br>"
   ]
  },
  {
   "cell_type": "markdown",
   "id": "8cb6398c",
   "metadata": {},
   "source": [
    "#### 3. 두 개의 리스트를 인자로 받아서 그 두 개의 리스트에 대한 '합집합'을 반환하는 함수 list_union(lista, listb)를 작성하시오.<br>\n",
    "* 집합 자료형 set은 사용하지 않는다.<br>\n",
    "* 인자로 전달하는 리스트 2 개에는 정수값만 들어간다고 가정하자.<br>\n",
    "* 함수 내에서 새로운 리스트를 만들어 그 리스트 내에 인자로 받은 두 리스트의 모든 원소를 넣어 반환한다.<br>\n",
    "* 반환하는 리스트에는 절대로 중복된 원소가 들어 있으면 안된다 (집합의 조건).<br>\n",
    "* 반환하는 리스트는 정렬이 되어 있어야 한다.<br>\n",
    "* 다음과 같은 실행 및 출력 결과가 도출되어야 한다.<br>\n",
    "    * list_union([1, 2, 3], [1, 2, 4])<br>\n",
    "        * [1, 2, 3, 4]<br>\n",
    "    * list_union([-10, -5, 0, -1], [100, 9, 0, 9])<br>\n",
    "        * [-10, -5, -1, 0, 9, 100]<br>\n",
    "    * list_union([0, 1, 2], [0, 1, 2])<br>\n",
    "        * [0, 1, 2]<br>\n",
    "* [참고] 리스트(l) 내에 새로운 정수값 (예를 들어 10)을 넣는 방법은 l.append(10) 이다.<br>\n",
    "* [참고] 임의의 정수값 (x)이 리스트 (l) 내에 존재하는지 판단하는 방법은 x in l 이다.<br>"
   ]
  },
  {
   "cell_type": "code",
   "execution_count": 50,
   "id": "f6536e90",
   "metadata": {
    "scrolled": true
   },
   "outputs": [
    {
     "name": "stdout",
     "output_type": "stream",
     "text": [
      "[1, 2, 3, 4]\n",
      "[-10, -5, -1, 0, 9, 100]\n",
      "[0, 1, 2]\n",
      "\n"
     ]
    }
   ],
   "source": [
    "def list_union(lista, listb):\n",
    "    list_sum = []\n",
    "\n",
    "    for num in lista:\n",
    "        list_sum.append(num)\n",
    "    for num in listb:\n",
    "        list_sum.append(num)\n",
    "\n",
    "    list_sum.sort()\n",
    "\n",
    "    for num in list_sum:\n",
    "        num_count = list_sum.count(num)\n",
    "        if num_count >= 2:\n",
    "            for a in range(0,num_count-1):\n",
    "                list_sum.remove(num)\n",
    "\n",
    "    return list_sum\n",
    "\n",
    "print(list_union([1,2,3],[1,2,4]))\n",
    "print(list_union([-10, -5, 0, -1], [100, 9, 0, 9]))\n",
    "print(list_union([0, 1, 2], [0, 1, 2]))\n",
    "print()\n"
   ]
  },
  {
   "cell_type": "markdown",
   "id": "1cdfb118",
   "metadata": {},
   "source": [
    "##### [문제 3. 설명]<br>\n",
    "   * 인자로 리스트 2개를 넘겨준뒤 list_union 함수 안에서 list_sum 이라는 빈 리스트를 만들었다.<br>\n",
    "   * 반복문으로 두 리스트의 원소들을 list_sum 리스트에 append() 메소드를 통해 다 넣은뒤 list_sum.sort()로 오름차순 정렬하였다.<br>\n",
    "   * 합집합이기에 list_sum 리스트에서 중복을 제거하면 원하는 결과가 나온다.<br>\n",
    "   * 그를 위해 list_sum 중에 갯수에 2개 이상인 요소들을 골라내었다. list_sum.count(num)으로 갯수를 얻어냈다.<br>\n",
    "   * 2개 이상일시 삭제해야하는 갯수는 (중복된 갯수) - (삭제 횟수) = 1 즉 (중복된 갯수) - 1 만큼의 횟수를 삭제하면 된다.<br>\n",
    "   * 삭제를 하고 나서 list_sum을 반환해주었고 print 하자 원하는 결과가 나옴을 볼 수 있었다.<br>"
   ]
  },
  {
   "cell_type": "markdown",
   "id": "5fca1ddc",
   "metadata": {},
   "source": [
    "#### 4. 두 개의 리스트를 인자로 받아서 그 두 개의 리스트에 대한 '교집합'을 반환하는 함수 list_intersection(lista, listb)와 '차집합'을 반환하는 함수 list_difference(lista, listb)를 작성하시오.<br>\n",
    "* 모든 가정과 조건은 3번 문제와 동일하다."
   ]
  },
  {
   "cell_type": "code",
   "execution_count": 51,
   "id": "e8e3ec52",
   "metadata": {},
   "outputs": [
    {
     "name": "stdout",
     "output_type": "stream",
     "text": [
      "[1, 2]\n",
      "[-1, 0, 9]\n",
      "[0, 1, 2]\n",
      "\n",
      "[3]\n",
      "[-5, -1, 3]\n",
      "[]\n"
     ]
    }
   ],
   "source": [
    "def list_intersection(lista, listb):\n",
    "    list_sum = []\n",
    "\n",
    "    for num in lista:\n",
    "        list_sum.append(num)\n",
    "    for num in listb:\n",
    "        list_sum.append(num)\n",
    "\n",
    "    list_sum.sort()\n",
    "    num_count1 = []\n",
    "\n",
    "    for num in list_sum:\n",
    "\n",
    "        num_count = list_sum.count(num)\n",
    "\n",
    "        if num_count < 2:\n",
    "            num_count1.append(num)\n",
    "\n",
    "    for num in num_count1:\n",
    "        list_sum.remove(num)\n",
    "\n",
    "\n",
    "    for num in list_sum:\n",
    "\n",
    "        num_count = list_sum.count(num)\n",
    "\n",
    "        if num_count >= 2:\n",
    "            for a in range(0, num_count - 1):\n",
    "                list_sum.remove(num)\n",
    "\n",
    "    return list_sum\n",
    "\n",
    "print(list_intersection([1,2,3],[1,2,4]))\n",
    "print(list_intersection([-10, -5, 0, -1], [100, 9, 0, 9,-1]))\n",
    "print(list_intersection([0, 1, 2], [0, 1, 2]))\n",
    "print()\n",
    "\n",
    "def list_difference(lista, listb):\n",
    "\n",
    "    list_sum = []\n",
    "\n",
    "    for num in lista:\n",
    "        list_sum.append(num)\n",
    "\n",
    "    list_sum.sort()\n",
    "\n",
    "    for num_remove in list_intersection(lista, listb):\n",
    "        num = lista.count(num_remove)\n",
    "        while(num):\n",
    "            lista.remove(num_remove)\n",
    "            num -= 1\n",
    "\n",
    "    return lista\n",
    "\n",
    "print(list_difference([1,2,3],[1,2,4]))\n",
    "print(list_difference([-10, -5, 0, -1,3], [100, 9, 0, 9,-10]))\n",
    "print(list_difference([0, 1, 2], [0, 1, 2]))\n"
   ]
  },
  {
   "cell_type": "markdown",
   "id": "cf983fda",
   "metadata": {},
   "source": [
    "##### [문제 4. 설명]<br>\n",
    "   1. 교집합은 문제 3번과는 반대로 중복되지 않은 요소들은 삭제를 해주고 중복된 요소는 하나만 남도록 제거해주면 된다.<br>\n",
    "   * num_count < 2 를 통해 하나만 있는 요소들을 알아내 list_sum.remove(num)로 삭제하였다.<br>\n",
    "   * 다음 중복된 요소들을 num_count >= 2 조건을 통해 알아내 1개만 남도록 반복문을 통해 제거하였다.<br>\n",
    "   * 그 뒤 교집합 리스트를 반환하였다.<br>\n",
    "   <br>\n",
    "   2. 차집합은 A-B 인데 이때 결과로 A 집합에서 AnB인 요소들을 뺀 값이 나오면 된다.\n",
    "   * 교집합은 이미 구현이 되어있기에 lista 와 listb의 교집합 리스트를 받아와 lista 리스트 안에 요소들 중에 교집합에 포함된 요소들을 삭제하였다.<br>\n",
    "   * 그 뒤 교집합 요소들이 삭제된 lista 리스트를 반환하였다.<br>"
   ]
  },
  {
   "cell_type": "markdown",
   "id": "5288c265",
   "metadata": {},
   "source": [
    "#### 5. 두 개의 양의 정수를 인자로 받아서 해당 범위안에 있는 소수(prime number)의 리스트를 출력하는 함수 print_primenumber(a, b)를 작성하시오.\n",
    "* 이미 구현된 모듈이나 라이브러리는 사용하지 않는다.\n",
    "* 함수의 반환(return)은 없으며 함수 내의 끝에서 .format()을 사용하여 다음과 같이 출력한다.\n",
    "    * print_primenumber(2, 10)\n",
    "        * 2 이상 10 이하 정수 중 소수 리스트: [2, 3, 5, 7]"
   ]
  },
  {
   "cell_type": "code",
   "execution_count": 52,
   "id": "cd1d6969",
   "metadata": {},
   "outputs": [
    {
     "name": "stdout",
     "output_type": "stream",
     "text": [
      "2 이상 10 이하 정수 중 소수 리스트: [2, 3, 5, 7]\n",
      "7 이상 12 이하 정수 중 소수 리스트: [7, 11]\n"
     ]
    }
   ],
   "source": [
    "def prime(n):\n",
    "    arr = [True] * (n + 1)\n",
    "\n",
    "    for i in range(2, n + 1):\n",
    "        if arr[i] == True:\n",
    "            j = 2\n",
    "\n",
    "            while (i * j) <= n:\n",
    "                arr[i*j] = False\n",
    "                j += 1\n",
    "\n",
    "    return arr\n",
    "\n",
    "def print_primenumber(a,b):\n",
    "\n",
    "    list_prime = []\n",
    "    \n",
    "    arr = prime(b)\n",
    "\n",
    "    for i in range(2, len(arr)):\n",
    "        if arr[i] == True and i >= a:\n",
    "            list_prime.append(i)\n",
    "\n",
    "    print(\"{} 이상 {} 이하 정수 중 소수 리스트: {}\".format(a,b,list_prime))\n",
    "\n",
    "print_primenumber(2, 10)\n",
    "print_primenumber(7, 12)"
   ]
  },
  {
   "cell_type": "markdown",
   "id": "3ad2beec",
   "metadata": {},
   "source": [
    "##### [문제 5. 설명]<br>\n",
    "   * 에라토스테네스의 체 방식으로 구현했던 소수 출력 함수를 수정했다.<br>\n",
    "   * 인수 b 까지 숫자가 들어있는 배열에서 i의 배수가 되는 수들을 배열에서 지워가며 소수를 남긴 배열을 반환하여 받아왔다.<br>\n",
    "   * 소수이면서 a 범위 이상이며 b 이하인 소수가 필요하기에  arr[i] == True and i >= a 조건을 통해 걸러낸 소수들을 list_prime.append(i)를 통해 추가하였다.<br>\n",
    "   * 그 다음 print(\"{} 이상 {} 이하 정수 중 소수 리스트: {}\".format(a,b,list_prime)) .format 포맷팅 사용하여 출력하였다.<br>"
   ]
  },
  {
   "cell_type": "markdown",
   "id": "452a8d05",
   "metadata": {},
   "source": [
    "### [Incremental Project 문제]\n",
    "#### 웹 URL로 지정된 웹페이지를 문자열로 가져와 1) 모든 HTML 태그를 제외한 순수 텍스트 문자열만을 걸러내고, 2) 그 순수 텍스트 문자열 안에 존재하는 단어가 총 몇개인지 출력하는 프로그램을 작성하시오.\n",
    "* 이하 조건들은 문제 홈페이지 참고\n"
   ]
  },
  {
   "cell_type": "code",
   "execution_count": 53,
   "id": "64e5ee2f",
   "metadata": {},
   "outputs": [
    {
     "name": "stdout",
     "output_type": "stream",
     "text": [
      "877\n",
      "\n",
      "4581\n"
     ]
    }
   ],
   "source": [
    "import requests\n",
    "import re\n",
    "\n",
    "def print_pagewords(url):\n",
    "    req = requests.get(url)\n",
    "\n",
    "    source = req.text\n",
    "\n",
    "    cheak = True\n",
    "\n",
    "    while cheak:\n",
    "        numA = source.find('<script')\n",
    "        numB = source.find('</script>')\n",
    "\n",
    "        source = source.replace(source[numA:numB+9], '')\n",
    "\n",
    "        if numA == -1:\n",
    "            cheak = False\n",
    "\n",
    "    cheak = True\n",
    "\n",
    "    while cheak:\n",
    "        numA = source.find('<style')\n",
    "        numB = source.find('</style>')\n",
    "\n",
    "        source = source.replace(source[numA:numB + 8], '')\n",
    "\n",
    "        if numA == -1:\n",
    "            cheak = False\n",
    "\n",
    "    cheak = True\n",
    "\n",
    "    while cheak:\n",
    "        numA = source.find('<url>')\n",
    "        numB = source.find('</url>')\n",
    "\n",
    "        source = source.replace(source[numA:numB + 6], '')\n",
    "\n",
    "        if numA == -1:\n",
    "            cheak = False\n",
    "\n",
    "    source = re.sub('<[^>]*>', ' ', source)\n",
    "    source = re.sub('&[^;]*;', ' ', source)\n",
    "    source = re.sub('@[^@]*@', ' ', source)\n",
    "\n",
    "    source = source.split(' ')\n",
    "    source = ' '.join(source).split()\n",
    "   \n",
    "    print(len(source))\n",
    "\n",
    "print_pagewords('https://www.daum.net/')\n",
    "print()\n",
    "print_pagewords('https://www.naver.com/')\n"
   ]
  },
  {
   "cell_type": "markdown",
   "id": "201bff04",
   "metadata": {},
   "source": [
    "##### [문제 6. 설명]<br>\n",
    "   * 모든 태그를 제거하고 순수 문자열만 남기면 되는 문제이다.\n",
    "   * 다만 몇가지 예외를 처리해주어야 했는데 <script>***</script>, <style>***</style>, <url>***</url> 이다.<br>\n",
    "   * 위의 3개의 예외는 태그 사이에 코드나 링크가 포함되어 있지만 태그 안 문자열들 이기에 삭제해주어야 했다.<br>\n",
    "   * 다만 태그 삭제를 했던 코드가 source = re.sub('<[^>]*>', ' ', source) 구문인데 이 구문으로는 태그'만' 제거되어 따로 처리가 필요했다.<br>\n",
    "   * 그래서 슬라이싱과 replace() 메소드를 활용하여 위 3가지 예외의 첫 태그가 나오는 첫 위치부터 뒷 태그가 나오는 위치 + (각 단어길이)를 슬라이싱 후 replace(source[numA:numB + *], '')를 통해 빈칸으로 대체하였다.<br>\n",
    "   * 위 예외 태그들은 전체 html에서 여러번 등장할 수 있기에 발견이 되지 않을시 .find() 메소드가 -1을 반환하는 것을 이용해 발견되지 않을때 까지 while 문을 돌렸다.<br>\n",
    "   * 그 뒤로는 정규표현식을 통해 제거할 태그와 예외 구문들을 제거했다. \n",
    "   * '<[^>]*>' = 태그에 해당하는 정규 표현식이다.\n",
    "   * '&[^;]*;' = 네이버 링크를 넣는 과정에서 발견된 '&**;' 과 같은 코드들을 삭제하기 위해 적은 정규 표현식이다.\n",
    "   * '@[^@]*@' = @***@ 같은 단어들을 제거하기 위해 적은 정규 표현식이다.\n",
    "   * 이 다음으로는 source.split(' ') 을 통해 공백을 기준으로 단어들을 구분하였다. 띄어쓰기를 하면 순수 단어 판정이었기에 이렇게 했다.\n",
    "   * 이렇게 할시 빈 문자나 공백이 여러번 반복된 줄들의 공백 문자가 리스트로 들어간다는 문제가 생긴다.\n",
    "   * 그래서 ' '.join(source).split() 을 통해 ' '.join(source)를 통해 리스트 요소에서 문자열로 바꿔준뒤 그 문자열을 .split() 함으로써 다시 한번 공백을 기준으로 단어들을 나누어 주었다.<br>\n",
    "   * 이렇게 하고 나니 예상했던대로, 바랬던 결과대로 공백요소들이 제거된 순수 문자들만 리스트에 남아있음을 볼 수 있었다.<br>\n",
    "   * 마지막으로는 print(len(source))을 통해 source 리스트의 요소 갯수를 출력했다.<br>\n",
    "   "
   ]
  },
  {
   "cell_type": "markdown",
   "id": "7f68c84b",
   "metadata": {},
   "source": [
    "##### 소감\n",
    "   * 일단 마크다운 사용이 이전보다 훨씬 익숙해졌다는걸 자각했다. 이 부분은 성장을 한것을 느껴 크게 기쁘다.\n",
    "   * 위의 문제들을 풀면서 파이썬에서 문자열 처리에 확실히 전보다 많은걸 배우고 느꼈다는걸 알 수 있었다.\n",
    "   * 특히나 마지막 문제의 경우 여럿 예외처리를 해가는 과정이 재밌었고 리스트에서 공백 요소 제거를 하는 법을 배워 나중에 도움이 크게 될듯하다.\n",
    "   * 작성에는 다소 많은 시간이 걸렸으나 문제 푸는데에는 큰 시간은 들지 않았던 것 같다. 점점 파이썬에 익숙해져가고 즐겁게 고민하는 나 자신을 볼 수 있어서 좋았다."
   ]
  }
 ],
 "metadata": {
  "kernelspec": {
   "display_name": "Python 3",
   "language": "python",
   "name": "python3"
  },
  "language_info": {
   "codemirror_mode": {
    "name": "ipython",
    "version": 3
   },
   "file_extension": ".py",
   "mimetype": "text/x-python",
   "name": "python",
   "nbconvert_exporter": "python",
   "pygments_lexer": "ipython3",
   "version": "3.8.8"
  }
 },
 "nbformat": 4,
 "nbformat_minor": 5
}
