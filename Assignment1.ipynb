{
 "cells": [
  {
   "cell_type": "markdown",
   "id": "9cd36ee2",
   "metadata": {},
   "source": [
    "# Assignment 1\n",
    "### 2018136092 이아휘"
   ]
  },
  {
   "cell_type": "markdown",
   "id": "62bbca89",
   "metadata": {},
   "source": [
    "#### 1. a=\"Hello Python\" 문자열을 Slicing과 연결 연산자 (+)를 사용하여 \"Python Hello\"로 변경하시오.<br>\n",
    "[주의] a 변수 자체에 \"Python Hello\" 문자열이 저장되어야 함<br>"
   ]
  },
  {
   "cell_type": "code",
   "execution_count": 183,
   "id": "9212d4c9",
   "metadata": {},
   "outputs": [
    {
     "name": "stdout",
     "output_type": "stream",
     "text": [
      " Python Hello \n"
     ]
    }
   ],
   "source": [
    "a = \"Hello Python\"\n",
    "a = a[5:12] + \" \" + a[0:6]\n",
    "print(a)"
   ]
  },
  {
   "cell_type": "markdown",
   "id": "cc763ba2",
   "metadata": {},
   "source": [
    "a 문자열을 슬라이싱을 통해 \"Hello\" 부분과 \"Python\" 얻어 배치를 바꾼뒤 a에 저장했다.<br>\n",
    "출력하면 원하는 결과 값이 출력됨을 볼 수 있다.<br>"
   ]
  },
  {
   "cell_type": "markdown",
   "id": "e22c551c",
   "metadata": {},
   "source": [
    "#### 2. b=\"Hello Python World\" 문자열을 Slicing과 연결 연산자 (+)를 사용하여 \"World Python Hello\"로 변경하시오.<br>\n",
    "[주의] b 변수 자체에 \"World Python Hello\" 문자열이 저장되어야 함<br>"
   ]
  },
  {
   "cell_type": "code",
   "execution_count": 184,
   "id": "838194e2",
   "metadata": {},
   "outputs": [
    {
     "name": "stdout",
     "output_type": "stream",
     "text": [
      "World Python Hello\n"
     ]
    }
   ],
   "source": [
    "b = \"Hello Python World\"\n",
    "b =  b[13:]+ \" \" + b[6:12] + \" \" +b[0:5]\n",
    "print(b)"
   ]
  },
  {
   "cell_type": "markdown",
   "id": "34b05d75",
   "metadata": {},
   "source": [
    "1번 문제 처럼 b 문자열을 슬라이싱 하여 문자열 부분들을 얻어 배치를 새로 하였다.<br>\n",
    "출력하면 원하는 결과 값이 출력됨을 볼 수 있다.<br>"
   ]
  },
  {
   "cell_type": "markdown",
   "id": "1494dd8e",
   "metadata": {},
   "source": [
    "#### 3. c=\"Hello\"를 \"olleH\"로 변경하시오\n",
    "[주의] c 변수 자체에 \"olleH\" 문자열이 저장되어야 함"
   ]
  },
  {
   "cell_type": "code",
   "execution_count": 185,
   "id": "d07b4131",
   "metadata": {},
   "outputs": [
    {
     "name": "stdout",
     "output_type": "stream",
     "text": [
      "olleH\n"
     ]
    }
   ],
   "source": [
    "c = \"Hello\"\n",
    "c = c[::-1]\n",
    "print(c)"
   ]
  },
  {
   "cell_type": "markdown",
   "id": "57dc0c98",
   "metadata": {},
   "source": [
    "이 문제의 경우 기존 문자열을 뒤에서 부터 가져와 저장시켜주면 된다.<br>\n",
    "그를 위해 c[::-1]을 해주어 역순으로 순회한 값이 c로 저장되도록 작성하였다.<br>\n",
    "출력하면 원하는 결과 값이 출력됨을 볼 수 있다.<br>"
   ]
  },
  {
   "cell_type": "markdown",
   "id": "d9c9b98d",
   "metadata": {},
   "source": [
    "#### 4. s= \"python\"에 대해 다음 문제를 풀어보시오.<br>\n",
    "    1) s[0], s[0][0], s[0][0][0]은 각각 어떤 값이 나오는지 확인하고 그 이유를 나름대로 설명해 보시오.<br>\n",
    "    2) s[-100], s[100]은 값이 나오는지 에러가 나오는지 확인하고 그 결과에 대한 이유를 나름대로 설명해 보시오.<br>\n",
    "    3) s[-100, 100]은 값이 나오는지 에러가 나오는지 확인하고 그 결과에 대한 이유를 나름대로 설명해 보시오.<br>\n",
    "    4) s[1:-1]의 결과를 확인하고 그 결과에 대한 이유를 정확하게 설명하시오.<br>\n",
    "    5) s[3:-3]의 결과를 확인하고 그 결과에 대한 이유를 정확하게 설명하시오.<br>"
   ]
  },
  {
   "cell_type": "code",
   "execution_count": 186,
   "id": "ad3aca1f",
   "metadata": {},
   "outputs": [
    {
     "name": "stdout",
     "output_type": "stream",
     "text": [
      "p p p\n"
     ]
    }
   ],
   "source": [
    "s= \"python\"\n",
    "print(s[0], s[0][0], s[0][0][0])"
   ]
  },
  {
   "cell_type": "markdown",
   "id": "4d8b65cd",
   "metadata": {},
   "source": [
    "1) 3개의 값 모두 \"p\" 만 출력된다.<br>\n",
    "    우선 s[0]을 출력하면 p가 나오는것이 맞다. 가장 첫번째 문자인 p가 출력되는 것이다.<br>\n",
    "    저 출력된 \"p\" 도 문자열이기에 문자열 \"p\"에 s[0[0] 인덱스 접근은 가장 첫번째인 \"p\"가 출력되는 것이다.<br>\n",
    "    3번째 요소인 s[0][0][0]도 똑같은 논리로 \"p\"가 출력된다.<br>"
   ]
  },
  {
   "cell_type": "code",
   "execution_count": 187,
   "id": "df9354f7",
   "metadata": {},
   "outputs": [
    {
     "ename": "IndexError",
     "evalue": "string index out of range",
     "output_type": "error",
     "traceback": [
      "\u001b[1;31m---------------------------------------------------------------------------\u001b[0m",
      "\u001b[1;31mIndexError\u001b[0m                                Traceback (most recent call last)",
      "\u001b[1;32m<ipython-input-187-751fe7c0b95d>\u001b[0m in \u001b[0;36m<module>\u001b[1;34m\u001b[0m\n\u001b[1;32m----> 1\u001b[1;33m \u001b[0mprint\u001b[0m\u001b[1;33m(\u001b[0m\u001b[0ms\u001b[0m\u001b[1;33m[\u001b[0m\u001b[1;33m-\u001b[0m\u001b[1;36m100\u001b[0m\u001b[1;33m]\u001b[0m\u001b[1;33m,\u001b[0m \u001b[0ms\u001b[0m\u001b[1;33m[\u001b[0m\u001b[1;36m100\u001b[0m\u001b[1;33m]\u001b[0m\u001b[1;33m)\u001b[0m\u001b[1;33m\u001b[0m\u001b[1;33m\u001b[0m\u001b[0m\n\u001b[0m",
      "\u001b[1;31mIndexError\u001b[0m: string index out of range"
     ]
    }
   ],
   "source": [
    "print(s[-100], s[100])"
   ]
  },
  {
   "cell_type": "markdown",
   "id": "c7d1212e",
   "metadata": {},
   "source": [
    "2) 위 코드의 결과는 에러로 나오는 것을 볼 수 있다.<br>\n",
    "    인덱스로 문자열에 접근하려면 범위를 벗어나서는 안된다.<br>\n",
    "    위 문자열은 6개의 문자로만 구성되어 있으므로 -100이나 100의 으로 접근하면 범위초과 에러가 발생한다.<br>"
   ]
  },
  {
   "cell_type": "code",
   "execution_count": null,
   "id": "d7ecee71",
   "metadata": {},
   "outputs": [],
   "source": [
    "print(s[-100, 100])"
   ]
  },
  {
   "cell_type": "markdown",
   "id": "0f2c984d",
   "metadata": {},
   "source": [
    "3) 위 코드또한 에러가 발생한다. 인덱스 접근할시 인덱스 요소로는 정수만이 올 수 있기 때문이다."
   ]
  },
  {
   "cell_type": "code",
   "execution_count": null,
   "id": "8f960a43",
   "metadata": {},
   "outputs": [],
   "source": [
    "print(s[1:-1])"
   ]
  },
  {
   "cell_type": "markdown",
   "id": "e7b3f665",
   "metadata": {},
   "source": [
    "4) 위 코드의 출력 결과는 \"ytho\"이다.<br>\n",
    "    s 문자열에 s[1]부터 s[-1]전 까지의 요소들 사이의 값들을 슬라이싱하여 구한것이다.<br>\n",
    "    그렇기에 s[1]는 \"y\"이고 s[-1]은 \"n\"이니 s[1]부터 s[-1]전까지인 \"ytho\"가 출력된 것이다.<br>"
   ]
  },
  {
   "cell_type": "code",
   "execution_count": null,
   "id": "e0954ce5",
   "metadata": {},
   "outputs": [],
   "source": [
    "print(s[3:-3])"
   ]
  },
  {
   "cell_type": "markdown",
   "id": "b0d88ae0",
   "metadata": {},
   "source": [
    "5) s[3]은 \"h\"이고 s[-3]은 \"h\"이다. 파이썬에서는 슬라이싱할때 가능한 한 많은 부분 반환을 하므로 아무 문자열도 반환하지 않을 수 있다.<br>\n",
    "위 코드에서는 s[3]부터 s[-3]전까지는 아무 문자열도 없기에 빈 문자열을 반환한 것 이다.<br>"
   ]
  },
  {
   "cell_type": "markdown",
   "id": "224c50a2",
   "metadata": {},
   "source": [
    "#### 5. for문을 활용하여 1부터 100사이의 홀수를 출력하시오."
   ]
  },
  {
   "cell_type": "code",
   "execution_count": null,
   "id": "53a5f8f0",
   "metadata": {},
   "outputs": [],
   "source": [
    "for num in range (1,100,2):\n",
    "    print(num)"
   ]
  },
  {
   "cell_type": "markdown",
   "id": "3ce89835",
   "metadata": {},
   "source": [
    "range 내장 함수의 step 값을 설정하여 1부터 2씩 더한 값을 출력하게 하여 홀수만 출력되도록 하였다."
   ]
  },
  {
   "cell_type": "markdown",
   "id": "32fb5332",
   "metadata": {},
   "source": [
    "#### 6. while문을 활용하여 1부터 100사이의 짝수의 합을 계산하여 출력하시오."
   ]
  },
  {
   "cell_type": "code",
   "execution_count": null,
   "id": "4aab4067",
   "metadata": {},
   "outputs": [],
   "source": [
    "sum = 0\n",
    "num = 0\n",
    "while(1):\n",
    "    sum += num\n",
    "    num += 2\n",
    "    if num > 100:\n",
    "        break\n",
    "print(sum)    "
   ]
  },
  {
   "cell_type": "markdown",
   "id": "c9619bc3",
   "metadata": {},
   "source": [
    "짝수의 합을 더하기 위해 합을 더해서 담아줄 sum과 짝수의 값을 나타낼 num 변수를 선언한뒤<br>\n",
    "while 안에서 num의 값이 100을 넘지 않을때까지의 짝수를 더해주도록 하였다.<br>"
   ]
  },
  {
   "cell_type": "markdown",
   "id": "568b0842",
   "metadata": {},
   "source": [
    "#### 7. 사용자로 부터 임의의 정수를 입력받고, 해당 숫자를 역순으로 출력하는 프로그램을 작성하시오.<br>\n",
    "<br>\n",
    "[실행 예]<br>\n",
    "<br>\n",
    " 정수를 입력하세요: 3125<br>\n",
    " 숫자 역순은 5213 입니다.<br>"
   ]
  },
  {
   "cell_type": "code",
   "execution_count": null,
   "id": "42b3d9d1",
   "metadata": {
    "scrolled": true
   },
   "outputs": [],
   "source": [
    "inter = input(\"정수를 입력하세요: \")\n",
    "\n",
    "print(\"숫자 역순은 \" + inter[::-1] + \" 입니다.\")"
   ]
  },
  {
   "cell_type": "markdown",
   "id": "ca330f44",
   "metadata": {},
   "source": [
    "사용자로 부터 input 함수를 통해 정수를 입력받고 슬라이싱 통해 역순으로 받아와 출력하였다."
   ]
  },
  {
   "cell_type": "markdown",
   "id": "febb5ac7",
   "metadata": {},
   "source": [
    "#### 8. 사용자로 부터 정수를 입력받아서 1부터 그 사이에 존재하는 소수 (Prime number)를<br> 출력하는 파이썬 프로그램을 작성하시오."
   ]
  },
  {
   "cell_type": "code",
   "execution_count": null,
   "id": "0505b646",
   "metadata": {},
   "outputs": [],
   "source": [
    "sum = []\n",
    "inter = input(\"정수를 입력하세요: \")\n",
    "inter = int(inter)\n",
    "\n",
    "def prime(n):\n",
    "    arr = [True] * (n + 1) \n",
    "\n",
    "    for i in range(2, n + 1):\n",
    "        if arr[i] == True:\n",
    "            j = 2\n",
    "\n",
    "            while (i * j) <= n:\n",
    "                arr[i*j] = False\n",
    "                j += 1\n",
    "\n",
    "    return arr\n",
    "\n",
    "arr = is_prime_num(inter)\n",
    "\n",
    "for i in range(2,len(arr)):\n",
    "    if arr[i] == True:\n",
    "        print(i, end=' ')"
   ]
  },
  {
   "cell_type": "markdown",
   "id": "6f27ab2f",
   "metadata": {},
   "source": []
  },
  {
   "cell_type": "markdown",
   "id": "a89b99f1",
   "metadata": {},
   "source": [
    "#### 9. Kevin과 Stuart는 게임을 한다. 규칙은 아래와 같다.<br>\n",
    "<br>\n",
    "    *두 플레이어에게 같은 string, S, 가 주어진다.<br>\n",
    "    *두 플레이어는 string S의 문자를 사용하여 substring을 만들어야 한다(중복 가능).<br>\n",
    "    *Stuart는 자음으로 시작하는 단어를 만들어야 한다.<br>\n",
    "    *Kevin은 모음으로 시작하는 단어를 만들어야 한다.<br>\n",
    "    *게임은 두 플레이어가 만들 수 있는 모든 단어를 만들었을 때 끝난다.<br>\n",
    "    *점수 계산 : substring 1개당 +1 점을 획득한다. (아래 그림 참고)<br>\n",
    "    *사용자로 부터 대문자로 이루어진 string S를 입력받고, 승자와 그의 점수를 출력하는 프로그램을 작성하시오.<br>\n",
    "<br>\n",
    "[실행 예]<br>\n",
    "<br>\n",
    "  string S를 입력하세요: BANANA<br>\n",
    "  승자: Stuart 점수: 12<br>"
   ]
  },
  {
   "cell_type": "code",
   "execution_count": null,
   "id": "349e16ed",
   "metadata": {},
   "outputs": [],
   "source": [
    "str_temp = input(\"string S를 입력하세요: \")\n",
    "str = str_temp.lower()\n",
    "\n",
    "word = []\n",
    "\n",
    "s_Kevin = 0\n",
    "s_Stuart = 0\n",
    "    \n",
    "for i in range(0,len(str)):\n",
    "    if i==0:\n",
    "        for num in range(len(str)):\n",
    "            word.append(str[num])\n",
    "    else:\n",
    "        for num in range(0,len(str)-i):\n",
    "            word.append(str[num:num+i+1])\n",
    "            \n",
    "vowels = \"aeiou\"            \n",
    "\n",
    "for str_word in word:\n",
    "    if str_word[0] not in vowels:\n",
    "        s_Stuart+=1\n",
    "    else:\n",
    "        s_Kevin+=1\n",
    "\n",
    "if s_Stuart > s_Kevin:\n",
    "    print(f\"승자: Stuart 점수: {s_Stuart} \")\n",
    "elif s_Stuart < s_Kevin:\n",
    "    print(f\"승자: Kevin 점수: {s_Kevin} \")\n",
    "else:\n",
    "    print(\"비겼습니다.\")\n",
    "    \n",
    "#print(word)\n",
    "#print(len(word))\n",
    "\n",
    "    "
   ]
  },
  {
   "cell_type": "markdown",
   "id": "423362a3",
   "metadata": {},
   "source": [
    "일단 입력된 string S를 .lower()로 소문자로 변환해주었다.<br>\n",
    "그다음 쪼갤수 있는 부분 문자열로 다 쪼개어 리스트에 저장했다.<br>\n",
    "반복문을 통해 한 글자부터 전체 문자열까지 슬라이싱을 했다.<br>\n",
    "그 다음 영어 모음을 모아둔 문자열 vowels을 만든뒤, word 리스트 전체중에 첫번째 요소가 모음이 아니라면<br>\n",
    "Stuart에게 1점을, 모음이 있는 경우에는 Kevin에게 1점을 부여 하도록 하였다.<br>\n",
    "마지막으로 대소를 비교하여 승자가 누군지 출력하도록 하였다.<br>"
   ]
  },
  {
   "cell_type": "markdown",
   "id": "05075b20",
   "metadata": {},
   "source": [
    "#### 10. 알파벳 소문자만으로 이루어진 string, S, 가 주어지고 아래 2가지 연산을 수행할 수 있다.<br>\n",
    "    *추가 : string S의 끝에 알파벳 소문자 하나를 추가한다.<br>\n",
    "    *삭제 : string S의 마지막 문자 하나를 삭제한다. empty string에서 삭제 연산을 수행한 결과는 empty string이다.<br>\n",
    "두 개의 string, s와 t, 그리고 정수 k가 주어질 때, 정확히 k번의 연산을 통해 s를 t로 바꿀 수 있는지 판단하는 <br>함수를 작성하시오.<br>"
   ]
  },
  {
   "cell_type": "code",
   "execution_count": null,
   "id": "c87299e0",
   "metadata": {},
   "outputs": [],
   "source": [
    "str_temp = input(\"string s를 입력하세요: \")\n",
    "str_s = str_temp.lower()\n",
    "str_temp = input(\"string t를 입력하세요: \")\n",
    "str_t = str_temp.lower()\n",
    "\n",
    "num_k = int(input(\"연산 횟수 k를 입력하세요: \"))\n",
    "\n",
    "def appendDelete(s, t, k):\n",
    "    \n",
    "    num_count = 0\n",
    "    num_temp = 0\n",
    "    \n",
    "    if len(str_s) > len(str_t):\n",
    "        for num in range(0,len(str_t)):\n",
    "            if str_s[num] == str_t[num]:\n",
    "                pass\n",
    "            else:\n",
    "                num_count += len(str_s) - num\n",
    "                num_temp = num\n",
    "                break\n",
    "        num_count += len(str_t) - num_temp\n",
    "    else:\n",
    "        for num in range(0,len(str_s)):\n",
    "            if str_t[num] == str_s[num]:\n",
    "                pass\n",
    "            else:\n",
    "                num_count += len(str_t) - num\n",
    "                num_temp = num\n",
    "                break\n",
    "        num_count += len(str_s) - num_temp\n",
    "        \n",
    "    #print(num_count)\n",
    "    \n",
    "    if num_count > k:\n",
    "        return 'no'\n",
    "    \n",
    "    return 'Yes'    # or 'No'\n",
    "\n",
    "print(appendDelete(str_s, str_t, num_k))"
   ]
  },
  {
   "cell_type": "markdown",
   "id": "efbbd3d0",
   "metadata": {},
   "source": [
    "위 문제의 경우 추가되고 삭제되는 요소들이 마지막 요소들이기 때문에 가장 처음으로 같은 순번에 두 문자열이 다른 문자를 지니고 있는 경우를 찾으면 된다.<br>\n",
    "여기서 고려해야 할점은 문자열 s와 t중에 어떤 문자열이 더 긴지 모르기에 if문을 통해 경우를 나누었다.<br>\n",
    "각 문자열의 처음부터 동일한지를 if문을 통해 한 문자씩 체크를 하여 동일할 경우 넘어가고<br>\n",
    "다를 경우에는 위치를 반환하도록 했다.<br>\n",
    "결국 반환된 위치까지는 문자를 삭제를 해야 하므로 삭제해야할 문자 갯수를 더해준뒤<br>\n",
    "추가해야할 문자 갯수는 (비교한 문자열 갯수) - (반환된위치) 만큼 이기에<br>\n",
    "num_count += len(짧은 문자열의 길이) - num을 해주었다.<br>\n",
    "출력하면 결과가 원하는 결과로 나온 것을 볼 수 있다.<br>"
   ]
  },
  {
   "cell_type": "markdown",
   "id": "6521e9ed",
   "metadata": {},
   "source": [
    "##### 소감\n",
    "생각보다 8번 까지는 시간소요가 그리 크진 않았으나 9번과 10번 문제는 생각보다도 많은 시간을 소요했다.\n",
    "집중을 잘 못했던 것도 있었지만 문제에 대한 이해가 다소 늦은 감도 있어 코드 작성에 애를 많이 먹었다.\n",
    "하지만 덕분에 오랜만에 코드 작성을 하는것에 연습을 할 수 있었고 나름대로의 변수 작성법도 생겨 뿌듯하다."
   ]
  },
  {
   "cell_type": "code",
   "execution_count": null,
   "id": "7eb25b57",
   "metadata": {},
   "outputs": [],
   "source": []
  }
 ],
 "metadata": {
  "kernelspec": {
   "display_name": "Python 3",
   "language": "python",
   "name": "python3"
  },
  "language_info": {
   "codemirror_mode": {
    "name": "ipython",
    "version": 3
   },
   "file_extension": ".py",
   "mimetype": "text/x-python",
   "name": "python",
   "nbconvert_exporter": "python",
   "pygments_lexer": "ipython3",
   "version": "3.8.8"
  }
 },
 "nbformat": 4,
 "nbformat_minor": 5
}
