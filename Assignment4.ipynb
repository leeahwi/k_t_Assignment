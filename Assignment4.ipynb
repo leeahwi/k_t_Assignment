{
 "cells": [
  {
   "cell_type": "markdown",
   "id": "2829eca8",
   "metadata": {},
   "source": [
    "# Assignment 4\n",
    "### 2018136092 이아휘"
   ]
  },
  {
   "cell_type": "markdown",
   "id": "da0271e9",
   "metadata": {},
   "source": [
    "#### 1. 다음 문제를 읽고 알맞은 코드를 제시하시오.\n",
    "* 1) 파일 s.txt 내의 다음 내용과 함께 아래 문제의 코드를 제시하시오.\n",
    ">pig ham<br>\n",
    ">cat dog<br>\n",
    ">ham bird<br>\n",
    ">dog pig<br>\n",
    "* 2) 파일 s.txt을 읽어서 각 라인에 있는 첫 번째 단어(문자열) 자체들을 기준으로 라인별 정렬후 파일 s1.txt에 그 결과를 기록하는 코드를 작성하시오. 즉, 프로그램 수행 후 s1.txt에 있는 파일 내용은 다음과 같다.\n",
    ">cat dog<br>\n",
    ">dog pig<br>\n",
    ">ham bird<br>\n",
    ">pig ham<br>\n",
    "* 3) 파일 s.txt을 읽어서 각 라인에 있는 두 번째 단어(문자열) 자체들을 기준으로 라인별 정렬후 파일 s2.txt에 그 결과를 기록하는 코드를 작성하시오. 즉, 프로그램 수행 후 s2.txt에 있는 파일 내용은 다음과 같다.\n",
    ">ham bird<br>\n",
    ">cat dog<br>\n",
    ">pig ham<br>\n",
    ">dog pig<br>\n",
    "* 4) 파일 s.txt을 읽어서 각 라인들에 있는 모든 단어들을 순차적으로 다시 나열하되 각 라인에 세 개의 단어들이 오도록 하여 s3.txt에 기록하는 코드를 작성하시오. 즉, 프로그램 수행 후 s3.txt에 있는 파일 내용은 다음과 같다.\n",
    ">pig ham cat<br>\n",
    ">dog ham bird<br>\n",
    ">dog pig<br>"
   ]
  },
  {
   "cell_type": "code",
   "execution_count": 52,
   "id": "c72b7da3",
   "metadata": {},
   "outputs": [
    {
     "name": "stdout",
     "output_type": "stream",
     "text": [
      "pig ham\n",
      "cat dog\n",
      "ham bird\n",
      "dog pig\n"
     ]
    }
   ],
   "source": [
    "# 1번 문제\n",
    "data = [\"pig\",\"ham\",\"cat\",\"dog\",\"ham\", \"bird\",\"dog\", \"pig\"]\n",
    "f = open(\"s.txt\", 'w')\n",
    "\n",
    "for i in range(0,len(data),2):\n",
    "    f.write(f\"{data[i]} {data[i+1]}\\n\")\n",
    "    \n",
    "f.close()\n",
    "\n",
    "f = open(\"s.txt\", 'r')\n",
    "lines = f.readlines()\n",
    "\n",
    "for line in lines:\n",
    "    line = line.strip()  \n",
    "    print(line)\n",
    "    \n",
    "f.close()"
   ]
  },
  {
   "cell_type": "markdown",
   "id": "b51f2ba8",
   "metadata": {},
   "source": [
    "##### [문제 1-1. 설명]\n",
    "* 우선 넣을 단어들을 담을 data 리스트를 준비한다음 's.txt'을 만들었다.\n",
    "* 그 다음 한줄에 두 단어씩 파일에 입력한뒤 파일을 닫았다.\n",
    "* 그 뒤 파일을 읽기모드로 연다음 한줄씩 읽어오면서 파일에 잘 입력이 되었는지 확인하는 구문이다."
   ]
  },
  {
   "cell_type": "code",
   "execution_count": 53,
   "id": "74283589",
   "metadata": {},
   "outputs": [
    {
     "name": "stdout",
     "output_type": "stream",
     "text": [
      "cat dog\n",
      "dog pig\n",
      "ham bird\n",
      "pig ham\n"
     ]
    }
   ],
   "source": [
    "# 2번 문제\n",
    "data = []\n",
    "f = open(\"s.txt\",'r')\n",
    "\n",
    "lines = f.readlines()\n",
    "for line in lines:\n",
    "    data.append(line.split())\n",
    "\n",
    "sortData = sorted(data, key=lambda x:[x[0],x[1]])\n",
    "\n",
    "#print(sortData)\n",
    "f.close()\n",
    "\n",
    "f = open(\"s1.txt\", 'w')\n",
    "\n",
    "for i in range(len(sortData)):\n",
    "    f.write(\" \".join(sortData[i]))\n",
    "    f.write(\"\\n\")\n",
    "    \n",
    "f.close()\n",
    "    \n",
    "f = open(\"s1.txt\", 'r')\n",
    "lines = f.readlines()\n",
    "\n",
    "for line in lines:\n",
    "    line = line.strip()  # 줄 끝의 줄 바꿈 문자를 제거한다.\n",
    "    print(line)   \n",
    "\n",
    "f.close()"
   ]
  },
  {
   "cell_type": "markdown",
   "id": "ced6ae99",
   "metadata": {},
   "source": [
    "##### [문제 1-2. 설명]\n",
    "* 우선 파일을 쓰기모드로 연다음 안에 있는 각 라인을 읽어왔다.\n",
    "* 한 줄 마다 단어 사이 공백이 있기에 공백기준 단어를 나누었다.\n",
    "* 그다음 sorted 내장함수를 이용해 key를 각 줄 첫번째 단어로 지정해 줌으로써 첫번째 단어 기준 정렬이 된 sortData 리스트를 얻어낼 수 있었다.\n",
    "* 그 다음 과정은 이를 's1.txt' 파일로 쓰기모드에서 정렬된 각 라인을 join 함수를 통해 단어 사이 공백을 추가하여 입력하였다.\n",
    "* 다음 과정은 이 과정들이 잘 수행되어 단어들이 잘 들어갔는지 파일을 열어 확인하는 구문이다.\n"
   ]
  },
  {
   "cell_type": "code",
   "execution_count": 54,
   "id": "368d97a5",
   "metadata": {},
   "outputs": [
    {
     "name": "stdout",
     "output_type": "stream",
     "text": [
      "ham bird\n",
      "cat dog\n",
      "pig ham\n",
      "dog pig\n"
     ]
    }
   ],
   "source": [
    "# 3번 문제\n",
    "data = []\n",
    "\n",
    "f = open(\"s.txt\",'r')\n",
    "\n",
    "lines = f.readlines()\n",
    "for line in lines:\n",
    "    data.append(line.split())\n",
    "\n",
    "sortData = sorted(data, key=lambda x:[x[1],x[0]])\n",
    "\n",
    "#print(sortData)\n",
    "f.close()\n",
    "\n",
    "f = open(\"s2.txt\", 'w')\n",
    "\n",
    "for i in range(len(sortData)):\n",
    "    f.write(\" \".join(sortData[i]))\n",
    "    f.write(\"\\n\")\n",
    "    \n",
    "f.close()\n",
    "    \n",
    "f = open(\"s2.txt\", 'r')\n",
    "lines = f.readlines()\n",
    "\n",
    "for line in lines:\n",
    "    line = line.strip()  # 줄 끝의 줄 바꿈 문자를 제거한다.\n",
    "    print(line)   \n",
    "\n",
    "f.close()"
   ]
  },
  {
   "cell_type": "markdown",
   "id": "204fac44",
   "metadata": {},
   "source": [
    "##### [문제 1-3. 설명]\n",
    "* 우선 파일을 쓰기모드로 연다음 안에 있는 각 라인을 읽어왔다.\n",
    "* 한 줄 마다 단어 사이 공백이 있기에 공백기준 단어를 나누었다.\n",
    "* 그다음 sorted 내장함수를 이용해 key를 각 줄 두번째 단어로 지정해 줌으로써 두번째 단어 기준 정렬이 된 sortData 리스트를 얻어낼 수 있었다.\n",
    "* 그 다음 과정은 이를 's2.txt' 파일로 쓰기모드에서 정렬된 각 라인을 join 함수를 통해 단어 사이 공백을 추가하여 입력하였다.\n",
    "* 다음 과정은 이 과정들이 잘 수행되어 단어들이 잘 들어갔는지 파일을 열어 확인하는 구문이다.\n"
   ]
  },
  {
   "cell_type": "code",
   "execution_count": 55,
   "id": "7ab79738",
   "metadata": {},
   "outputs": [
    {
     "name": "stdout",
     "output_type": "stream",
     "text": [
      "pig ham cat\n",
      "dog ham bird\n",
      "dog pig\n"
     ]
    }
   ],
   "source": [
    "# 4번 문제\n",
    "data = []\n",
    "\n",
    "with open(\"s.txt\",'r') as f:\n",
    "    lines = f.readlines()\n",
    "    for line in lines:\n",
    "        iterLine = iter(line.split())\n",
    "        data.append(next(iterLine))\n",
    "        data.append(next(iterLine))\n",
    "\n",
    "#for i in range(4):\n",
    "#    line = f.readline()\n",
    "#    data.append(line.split()[0])\n",
    "#    data.append(line.split()[1])\n",
    "\n",
    "with open(\"s3.txt\", 'w') as f:\n",
    "    for num in range(len(data)//3 + 1):\n",
    "        f.write(' '.join(data[num*3:(num+1)*3]))\n",
    "        f.write(\"\\n\")\n",
    "\n",
    "with open(\"s3.txt\", 'r') as f:\n",
    "    lines = f.readlines()\n",
    "    for line in lines:\n",
    "        line = line.strip()  # 줄 끝의 줄 바꿈 문자를 제거한다.\n",
    "        print(line)   "
   ]
  },
  {
   "cell_type": "markdown",
   "id": "4c219dad",
   "metadata": {},
   "source": [
    "##### [문제 1-4. 설명]\n",
    "* 우선 's.txt' 파일을 열어 모든 라인을 받아와 한 라인 마다 있는 2개의 단어들을 data 리스트에 넣어주었다.\n",
    "* 다음으로는 's3.txt' 파일을 만든뒤에 써야하는 줄의 갯수는 len(data)//3 개의 줄이 작성이 되므로 range(len(data)//3 + 1)로 이를 맞춰주었고 그 다음으로는 각 줄마다 단어 사이 공백을 넣도록 join을 이용해 data에서 3개의 단어씩 파일에 입력하면 된다.\n",
    "* 다음 과정은 이 과정들이 잘 수행되어 단어들이 잘 들어갔는지 파일을 열어 확인하는 구문이다."
   ]
  },
  {
   "cell_type": "markdown",
   "id": "bcaf700a",
   "metadata": {},
   "source": [
    "#### 2. 다음과 같은 조건들을 참고하여 회원 가입 및 로그인 프로그램을 작성하시오.\n",
    "* 1) 프로그램 시작 후 다음과 같은 메시지가 출력되어 1, 2, 3 중 하나의 값을 입력 받도록 한다.\n",
    ">Welcome to Our Service<br>\n",
    "> A.Sign Up<br>\n",
    "> B.Sign In<br>\n",
    "> C.Quit<br>\n",
    "* 2) 1을 선택하면 ID, Password, Name, School의 4가지 정보를 입력받아 파일에 저장하는 프로그램을 작성한다.\n",
    "    * 2-1) 입력된 내용은 access.txt 라는 이름의 텍스트 파일 내에 저장된다.\n",
    "    * 2-2) access.txt 파일의 각 라인에는 가입된 회원 각각의 정보가 \"[id]: [password], [name], [school]\" 형태로 저장된다.\n",
    "    * 2-3) 즉, 가입 회원이 10명이면 access.txt 파일 내에 라인 수도 정확히 10개이다.\n",
    "    * 2-4) 암호화 방식은 sha 모듈을 활용한다. sha 모듈 활용 방법은 본 문제의 마지막에 제시된 sha 활용 예를 참고한다.\n",
    "        * 즉, access.txt 파일 내에 password 정보는 암호화 되어 저장되어야 한다.\n",
    "    * 2-5) 회원 정보를 입력 받을 때 id를 입력 받은 직후 access.txt를 확인하여 이미 존재하는 id가 입력되었다면 다음 메시지를 출력하고 id 정보를 다시 입력받는다.\n",
    "        * Sorry, the entered ID is already used.\n",
    "    * 3) 2를 선택하면 ID, Password의 2가지 정보를 입력받는 프로그램을 작성한다.\n",
    "    * 3-1) 입력된 ID 정보가 access.txt에 존재하지 않으면 다음과 같은 메시지를 출력하고 다시 입력받는다.\n",
    "        * Sorry, you are not a registered member.\n",
    "    * 3-2) 입력된 ID가 올바르게 존재하지만 Password 정보가 access.txt 파일에 있는 정보와 불일치하면 다음과 같은 메시지를 출력하고 Password를 다시 입력받는다.\n",
    "        * Sorry, the entered password is not correct.\n",
    "        * 이 때에도 사용자가 입력한 Password 정보와 함께 sha 모듈이 활용되어야 한다.\n",
    "    * 3-3) 입력된 ID와 Password가 모두 올바르면 다음과 같은 메시지를 출력한다.\n",
    "        * Hello [name]!\n",
    "        * 위 [name]에는 access.txt에 기록되어 있는 name 정보를 출력한다.\n",
    "    * 4) 3을 선택하면 프로그램이 끝난다."
   ]
  },
  {
   "cell_type": "code",
   "execution_count": 56,
   "id": "5cff7726",
   "metadata": {},
   "outputs": [],
   "source": [
    "# 문자열 셋팅\n",
    "import hashlib\n",
    "\n",
    "stringlist = [\"Welcome to Our Service\",\"A.Sign Up\",\"B.Sign In\",\"C.Quit\"]\n",
    "infostr = [\"id\",\"password\",\"name\",\"school\"]\n"
   ]
  },
  {
   "cell_type": "markdown",
   "id": "bb95833c",
   "metadata": {},
   "source": [
    "##### [문제 2. 설명]\n",
    "* 우선 이후로 쓸 hashlib 모듈을 import하고 프로그램 실행시 뜨게할 메세지 내용과 id,password,name, school 문자열을 담은 stringlist 리스트와 infostr 리스트를 준비했다."
   ]
  },
  {
   "cell_type": "code",
   "execution_count": 67,
   "id": "b4eed0e6",
   "metadata": {},
   "outputs": [],
   "source": [
    "# 2) 조건을 위한 함수\n",
    "\n",
    "def inputinfoFour():\n",
    "    with open(\"access.txt\",'a') as f: #파일 없으면 만들어줌\n",
    "        infolist = []\n",
    "        \n",
    "        num = 0\n",
    "        \n",
    "        while(num<4):\n",
    "            \n",
    "            info = input(f\"{infostr[num]}: \")\n",
    "            \n",
    "            if (num == 0  and isid(info)):\n",
    "                print(\"Sorry, the entered ID is already used.\")\n",
    "                \n",
    "            else:\n",
    "                infolist.append(info)\n",
    "                num += 1\n",
    "                \n",
    "        \n",
    "        password_encrypted = hashlib.sha256(infolist[1].encode()).hexdigest()\n",
    "\n",
    "        f.writelines(f\"{infolist[0]}: {password_encrypted}, {infolist[2]}, {infolist[3]}\")\n",
    "        f.write(\"\\n\")\n",
    "\n",
    "    \n",
    "def isid(id):\n",
    "    with open('access.txt','r') as f:\n",
    "        lines = f.readlines()\n",
    "        for line in lines:\n",
    "            line = line.strip()  # 줄 끝의 줄 바꿈 문자를 제거한다.\n",
    "            checkstr = line.split(':')[0] #checkstr은 각 행의 id가 된다. \n",
    "            if checkstr == id:\n",
    "                return True\n",
    "        return False"
   ]
  },
  {
   "cell_type": "markdown",
   "id": "1eecc999",
   "metadata": {},
   "source": [
    "##### [문제 2. 설명]\n",
    "* 이 코드는 문제 2번의 1번 기능을 구현하는 코드이다. 우선 'access.txt'를 추가 모드로 열어 파일이 없다면 만들고 있다면 추가로 작성할 내용을 추가하는 모드로 지정하였다.\n",
    "* 그 다음 사용자가 id 부터 school까지 입력할때 id가 파일에 이미 존재하는 id라면 다시 입력하게 해야 했기에 그를 위한 isid 함수를 만들었다.\n",
    "* isid 함수는 'access.txt' 파일을 읽기모드로 열어서 각라인을 받아온다음 ':' 단어 기준 split() 하게 되면 가장 첫 원소가 id 원소이기에 이를 checkstr 변수에 담아 매개변수인 id와 일치여부를 판단하여 일치하면 True를 반환, 이외의 경우에는 False를 반환 하는 함수이다.\n",
    "* isid 함수를 이용해 첫 입력시에 입력한 id가 파일내 있는지 확인하여 있으면 \"Sorry, the entered ID is already used.\" 메세지 출력하고 num -=1 하고 pass 하여 다시 id를 입력하게 하였다.\n",
    "* 존재하지 않는 id를 입력하였다면 차례대로 password, name, school을 입력 받은뒤 infolist에 저장하였다.\n",
    "* infolist에 요소들을 문제의 요구하는 형태로 한줄로 쓰기 전에 password는 hashlib를 이용해 암호화 된 형태인 password_encrypted를 저장하도록 하였다.\n",
    "* 최종적으로 위 과정들을 수행하면 문제의 요구대로 id: password, name, school 의 한줄로 회원정보가 acesse.txt 파일에 저장하게 된다."
   ]
  },
  {
   "cell_type": "code",
   "execution_count": 73,
   "id": "22f5d091",
   "metadata": {},
   "outputs": [],
   "source": [
    "# 3) 조건을 위한 함수\n",
    "\n",
    "def ispassword(userid,password):\n",
    "    \n",
    "    password_encrypted = hashlib.sha256(password.encode()).hexdigest()\n",
    "    \n",
    "    #print(password_encrypted)\n",
    "    #print(userid)\n",
    "    with open('access.txt','r') as f:\n",
    "        lines = f.readlines()\n",
    "        for line in lines:\n",
    "            line = line.strip()  # 줄 끝의 줄 바꿈 문자를 제거한다.\n",
    "            line_id = line.split(':')[0]\n",
    "            line_password = line.split(':')[1].split(',')[0] #암호화된 password를 불러온다.\n",
    "            \n",
    "            #print(line_id)\n",
    "            #print(line_password)\n",
    "            \n",
    "            if userid.strip() == line_id.strip() and line_password.strip() == password_encrypted:\n",
    "                print(f\"Hello {line.split(':')[1].split(',')[1].strip()}\")\n",
    "                return True\n",
    "        \n",
    "        return False\n",
    "\n",
    "def readinfoTwo():\n",
    "    with open(\"access.txt\",'r') as f: #파일 없으면 만들어줌\n",
    "        infolist = []\n",
    "        \n",
    "        num = 0\n",
    "        while(num<2):\n",
    "            \n",
    "            info = input(f\"{infostr[num]}: \")\n",
    "            \n",
    "            if(num == 0 and not isid(info)):\n",
    "                print(\"Sorry, you are not a registered member.\")\n",
    "                num = 0\n",
    "                pass\n",
    "            \n",
    "            elif(num == 1 and not ispassword(infolist[0],info)):\n",
    "                print(\"Sorry, the entered password is not correct.\")\n",
    "                num = 1\n",
    "                pass\n",
    "            else:\n",
    "                num += 1\n",
    "                infolist.append(info)\n"
   ]
  },
  {
   "cell_type": "markdown",
   "id": "edae1c91",
   "metadata": {},
   "source": [
    "##### [문제 2. 설명]\n",
    "* 이 코드는 2번 문제의 2번 기능을 구현하는 코드이다. 2번 기능을 구현하기 위해 2개의 함수를 만들었다.\n",
    "* 첫번째 함수인 ispassword는 매개변수로 사용자가 입력하는 password가 파일에 찾고자 하는 id가 가진 password랑 일치하는지 확인하는 함수이다. password는 암호화 되어 저장되어있기에 입력받은 매개변수도 암호화를 해 주었다. 그 다음 각 라인의 id와 password를 받아온뒤에 매개변수 userid, password와 일치하는지 판단한뒤 일치하면 모두 올바른 것이기에 Hello [name]!을 출력하고 True를 반환하도록 하였다. 이 이외의 상황인 일치하지 않는 경우 False를 반환하도록 하였다.\n",
    "* readinfoTwo() 함수는 사용자에게 id와 password를 입력받아 위 ispassword 함수를 이용하는 함수이다. id를 입력받을때는 isid 함수를 이용해 id 존재 여부 판단한뒤 존재하지 않을시 메세지 출력후 다시 id 입력하게 하였다 존재함을 확인하였다면 다음 password 입력시에 ispassword 함수를 이용해 입력한 id와 password가 일치하는지 판단한뒤 일치하지 않으면 지정된 메세지 출력뒤 password를 다시 입력하게 하였다."
   ]
  },
  {
   "cell_type": "code",
   "execution_count": 69,
   "id": "797eb531",
   "metadata": {},
   "outputs": [],
   "source": [
    "# 콘솔에 메시지 띄우는 함수\n",
    "\n",
    "def printMain():\n",
    "    print(f\"\\n{stringlist[0]}\\n {stringlist[1]}\\n {stringlist[2]}\\n {stringlist[3]}\\n\")"
   ]
  },
  {
   "cell_type": "code",
   "execution_count": 74,
   "id": "5b5584db",
   "metadata": {},
   "outputs": [
    {
     "name": "stdout",
     "output_type": "stream",
     "text": [
      "\n",
      "Welcome to Our Service\n",
      " A.Sign Up\n",
      " B.Sign In\n",
      " C.Quit\n",
      "\n",
      "기능 선택: 1\n",
      "id: dldkgnl\n",
      "password: 123\n",
      "name: 이아휘\n",
      "school: 한기대\n",
      "\n",
      "Welcome to Our Service\n",
      " A.Sign Up\n",
      " B.Sign In\n",
      " C.Quit\n",
      "\n",
      "기능 선택: 1\n",
      "id: test\n",
      "password: 321\n",
      "name: 테스트\n",
      "school: 한기대\n",
      "\n",
      "Welcome to Our Service\n",
      " A.Sign Up\n",
      " B.Sign In\n",
      " C.Quit\n",
      "\n",
      "기능 선택: 2\n",
      "id: test1\n",
      "Sorry, you are not a registered member.\n",
      "id: test\n",
      "password: 123\n",
      "Sorry, the entered password is not correct.\n",
      "password: 321\n",
      "Hello 테스트\n",
      "\n",
      "Welcome to Our Service\n",
      " A.Sign Up\n",
      " B.Sign In\n",
      " C.Quit\n",
      "\n",
      "기능 선택: 2\n",
      "id: dldkgnl\n",
      "password: 123\n",
      "Hello 이아휘\n",
      "\n",
      "Welcome to Our Service\n",
      " A.Sign Up\n",
      " B.Sign In\n",
      " C.Quit\n",
      "\n",
      "기능 선택: 3\n"
     ]
    }
   ],
   "source": [
    "# 프로그램 실행 블럭\n",
    "\n",
    "selectFunc = 0\n",
    "\n",
    "while(selectFunc != 3):\n",
    "    \n",
    "    printMain()\n",
    "    \n",
    "    selectFunc = int(input(\"기능 선택: \"))\n",
    "    \n",
    "    if(selectFunc == 1):\n",
    "        inputinfoFour()\n",
    "\n",
    "    elif(selectFunc == 2):\n",
    "        readinfoTwo()\n",
    "    "
   ]
  },
  {
   "cell_type": "markdown",
   "id": "7eacca84",
   "metadata": {},
   "source": [
    "##### [문제 2. 설명]\n",
    "* 위 코드는 이때까지 구현한 1번 기능과 2번기능을 사용자 입력에 따라 선택하여 함수를 호출하는 기능을 하는 코드이다.\n",
    "* 처음 화면 표시할 메세지를 출력한뒤 1,2 입력에 따라 inputinfoFour() 함수, readinfoTwo() 함수를 호출한다\n",
    "* 3이 입력되면 while문을 벗어나게 되면서 프로그램이 종료된다."
   ]
  },
  {
   "cell_type": "markdown",
   "id": "ddae6dc0",
   "metadata": {},
   "source": [
    "#### 3. range() 함수와 유사한 frange() 함수를 다음 조건을 참고하여 만드시오.\n",
    "* 1) frange()의 인자 구성은 다음과 같이 range와 동일하지만 각 인수들은 음수를 받지 않는다고 가정한다.\n",
    ">range(stop)<br>\n",
    ">range(start, stop[, step])\n",
    "* 2) frange() 함수의 인자에 대한 기본 시작(start) 값은 0.0이고, 기본 단계(step) 값은 0.1이다.\n",
    "* 3) frange 사용 예\n",
    "    * 3-1) frange(0.5)\n",
    "        * [0.0, 0.1, 0.2, 0.3, 0.4]\n",
    "    * 3-2) frange(1.0, 2.0)\n",
    "        * [1.0, 1.1, 1.2, 1.3, 1.4, 1.5, 1.6, 1.7, 1.8, 1.9]\n",
    "    * 3-3) frange(2.2, 4.0, 0.5)\n",
    "        * [2.2, 2.7, 3.2, 3.7]"
   ]
  },
  {
   "cell_type": "code",
   "execution_count": 75,
   "id": "ec1bacf9",
   "metadata": {},
   "outputs": [
    {
     "name": "stdout",
     "output_type": "stream",
     "text": [
      "[0.0, 0.1, 0.2, 0.3, 0.4]\n",
      "[1.0, 1.1, 1.2, 1.3, 1.4, 1.5, 1.6, 1.7, 1.8, 1.9]\n",
      "[2.2, 2.7, 3.2, 3.7]\n"
     ]
    }
   ],
   "source": [
    "def frange(*args, **kwargs):\n",
    "    '''range 함수와 같은 동작을 float 인수의 형태로 정의해 놓은 frange 함수'''\n",
    "    \n",
    "    if len(args) == 3:\n",
    "        start, stop, step = args\n",
    "    elif len(args) == 2:\n",
    "        start, stop = args\n",
    "        step = 0.1\n",
    "    elif len(args) == 1:\n",
    "        start = 0.0\n",
    "        step = 0.1\n",
    "        stop = args[0]\n",
    "    else:\n",
    "        raise Exception('인수의 갯수는 1~3개 이어야 합니다.') \n",
    "    \n",
    "    frangeList = [(numStep/10) for numStep in range(int(start*10),int(stop*10),int(step*10))]\n",
    "    print(frangeList)\n",
    "    \n",
    "frange(0.5)\n",
    "frange(1.0, 2.0)\n",
    "frange(2.2, 4.0, 0.5)"
   ]
  },
  {
   "cell_type": "markdown",
   "id": "0b310d65",
   "metadata": {},
   "source": [
    "##### [문제 3. 설명]\n",
    "* 매개변수를 가변인수로 설정하여 인수 갯수를 여러개 받을 수 있도록 서정하였다. len(args) 를 통해 인수 갯수를 받아와 각 갯수 만큼 start stop step 설정을 다르게 하였다.\n",
    "* 인수가 한개인 경우에는 stop 만 입력된 상태이므로 start = 0, step = 0.1로 stop = args[0]으로 설정하였다.\n",
    "* 인수가 2개인 경우에는 start,stop이 입력되었음으로 언팩을 이용해 start, stop = args로 값을 할당해준뒤 step은 기본 설정값인s 0.1로 설정하였다.\n",
    "* 인수가 3개인 경우에는 start,stop,step 순으로 인수가 입력이 되었으니 언팩을 활용하여 start, stop, step = args로 3개의 값을 설정해주었다.\n",
    "* 그 이외 경우에는 예외 발생하게 하였다.\n",
    "* 그 다음 리스트 내포를 활용하였다. frange 함수는 기존 range 함수와는 다르게 float 스탭에도 적용이 되야하기에 일단 float 형인 start, stop, step에 10을 곱한뒤 이를 range 함수에 적용, numStep으로 이들 값을 받게 한다음 (numStep/10)을 통해 이를 다시 float 형으로 만든 값을 리스트 형태로 반환하게 하였다."
   ]
  },
  {
   "cell_type": "markdown",
   "id": "0a0fe829",
   "metadata": {},
   "source": [
    "#### 4. 가변인수를 받는 함수 sum()을 다음과 같은 조건을 참고하여 구현하시오.\n",
    "* sum() 사용 예\n",
    ">sum()<br>\n",
    ">0<br>\n",
    "><br>\n",
    ">sum(1, 2)<br>\n",
    ">3<br>\n",
    "><br>\n",
    ">sum(1, 2, 3, 4, 5)<br>\n",
    ">15<br>\n",
    "><br>\n",
    ">sum(1, 5, 7, 2, -10)<br>\n",
    ">5<br>"
   ]
  },
  {
   "cell_type": "code",
   "execution_count": 76,
   "id": "2ff7c945",
   "metadata": {},
   "outputs": [
    {
     "name": "stdout",
     "output_type": "stream",
     "text": [
      "0\n",
      "3\n",
      "15\n",
      "5\n"
     ]
    }
   ],
   "source": [
    "def sum(*args, **kwargs):\n",
    "    snum = 0\n",
    "    for num in args:\n",
    "        snum += num\n",
    "    print(snum)\n",
    "\n",
    "sum()\n",
    "sum(1, 2)\n",
    "sum(1, 2, 3, 4, 5)\n",
    "sum(1, 5, 7, 2, -10)"
   ]
  },
  {
   "cell_type": "markdown",
   "id": "c96cc302",
   "metadata": {},
   "source": [
    "##### [문제 4. 설명]\n",
    "* 가변인수로 값을 받도록 sum 함수를 만든뒤 for num in args 를 통해 num 값들을 snum에 다 더해준뒤 값을 출력하게 하였다. snum을 처음에 0으로 설정하였기에 아무런 인수도 입력받지 않을시 0이 출력된다.\n",
    "* 위는 문제의 예시들을 적용한 결과이다. 보다시피 모든 출력결과가 정상적으로 나왔음을 볼 수 있다."
   ]
  },
  {
   "cell_type": "markdown",
   "id": "77216e70",
   "metadata": {},
   "source": [
    "#### 5. 여러 단어로 이루어진 문자열을 입력받아 각 단어의 첫글자로 이루어진 단어를 대문자로 출력하는 myinitial() 함수를 다음 조건을 참고하여 작성하시오.\n",
    "   * 1) 다음에 제시되는 함수들을 모두 이용해야 한다.\n",
    "       * split\n",
    "       * map\n",
    "       * join\n",
    "   * 2) myinitial() 함수 사용 예\n",
    "        * myinitial(\"as soon as possible\")\n",
    "            * ASAP\n"
   ]
  },
  {
   "cell_type": "code",
   "execution_count": 42,
   "id": "f9fcb5d4",
   "metadata": {},
   "outputs": [
    {
     "name": "stdout",
     "output_type": "stream",
     "text": [
      "ASAP\n"
     ]
    }
   ],
   "source": [
    "def myinitial(string):\n",
    "    inputString = ''.join(list(map(lambda x:x[0], string.split())))\n",
    "    print(inputString.upper())\n",
    "\n",
    "myinitial(\"as soon as possible\")"
   ]
  },
  {
   "cell_type": "markdown",
   "id": "cae36b7f",
   "metadata": {},
   "source": [
    "##### [문제 5. 설명]\n",
    "* myinitial 함수로 문자열 인수를 받는데 이를 list(map(lambda x:x[0], string.split())) 함수를 이용해 입격받은 문자열을 공백기준으로 나눈다음 lambda 함수를 통해 각 단어의 첫글자를 따와 리스트로 만든뒤 join 함수로 이를 한 문자열로 합쳐주었다. 여기까지 진행하면 \"as soon as possible\" 문자열의 경우 inputString은 \"asap\" 문자열을 가리키게 된다.\n",
    "* 그 다음 inputString.upper() 통해 문자열을 대문자로 바꾼뒤 이를 출력했다."
   ]
  },
  {
   "cell_type": "markdown",
   "id": "f022f196",
   "metadata": {},
   "source": [
    "#### 6. 음이 아닌 정수 n를 입력받으면 n! (factorial)을 계산하는 myfact() 함수를 재귀적 함수로 구현하시오.\n",
    "   * [옵션] 참을 수 있는 정도 만큼의 수행시간을 직접 기다려보면서 n을 늘려보도록 합시다."
   ]
  },
  {
   "cell_type": "code",
   "execution_count": 51,
   "id": "11c75eb3",
   "metadata": {
    "scrolled": true
   },
   "outputs": [
    {
     "name": "stdout",
     "output_type": "stream",
     "text": [
      "87144248962317235332364169948550663995016494380614040643120460547086575978025113094005316813387253233918824761027823220193224411432506537861735630651739690844548019945712582743187890959533721195699182388458112319494020147228190998982521848222673662664415758220775430433633181034644940993940309924604620609902456032697423471842607702869889993931638206179934969400770095329575996340043050371531159588486440971355105337304697713575811607464179879393200424609541219249792688017198741787411895332690770795383061042054819932275395875405966389713910757529276314956708640058616750861299719225853231172377711344581605022107094346459639472229615399844420206930411441926683319643201494331561630793925505144948138965107042859934331312497135695163558053143484019469163773928148062796900762803468576155140846093304215833940256882313656130255935841986124053880273129010591807353576256072040173411600200156317864729426654076862530283556842950559771181497121859669481388756581902669873576925704853988815689008629214592266755309457298182614531396381697582671137306843013261900760019964494514455622366948394012157861913526910279929227114028389607761493678097685462315090776607713186695899388908807530473365169896763332416928788910566623192953380995489015252555688747229967570075257124148089981412338439103014824866115851078608141404411928236488742026382712282520254324215957687520820919350400479553531931667795509970266683070165575559976938096522789808161498962849889240219972359090360249190804176751581790233417038442583167785643752362146477888967346265832924825935280469297459611870569361765843847290444111864144303029098238954101659600389643798996932330241538967656656702753787420566825004087017825228772600985214558499256125100950694259019159017791195218426874503459702469299590864658119839753677543377484462317338993831355286915196091931348626642189442822100830974265539643571684309367990788565725478085835713256335711046105063186160586884047374924876793711453451498752981857801072684627064787718859626210820444254588084049291027402994449318170317262256693451131586901294124492622920994905608684037971943515221057868961606928260045849077362335426076618265679644419259984626425266222662572306420673724612511283233331746672430990637081325591212188480074398815071564203054900704583608367821098639642520325875258979020104192617102685700524007567195101555742030241331185742847372800690739735982832480007465327007688856088895540895957029861240077641396006951600952345755149706287866852312409192640436676622911081664421299730494546788189812643918935435390948805246858002303084845508186591642165079880727898087475421918183228754363536770718523044943906220149274075958934769651113019018739260924468019113902262074879161559765816263630784345554321501203820058876903161279092620614511699002485919345477277353704876705593037365380980371178139659512534680422455640847617201869529330458547713123454002382952402972343628024967022851056661748999544860822182129604620170708858603366799016857818231471025444800260134195370492639596594844947757900212139366361303964804801833466245796281053051681448714745707705787146985485856792142019719769041942084713064396997074136773692128341119623911407400620733065226955156882356070436202968608084269737414907053232343790331745651625454227579146910055621100198243766273431853984689693720240536981697291461371335366154758413307964406649152867487456307141644393987636736963381954560126049227503794296420098108955228376299263478878968926409618388806650296400482035722790836006061382499466143374106420593475334797777286969829424194973016006096754008067954161993558039251264098299428035652107798911144308146071467612204874332931460444891461716608761312320316045627874930228095452330184399976943159663703564604887719780970795911762713301139835514774183013489489062314234869628254871292213069495410357876276862472731023699775902606275493099338027595030685012849849633778759139135588082149222765206174152880443267999617573754697338469017122818151074073544312016170740808988091682807282370289666116293788781960046434533291603174347478633894706703843482633379891060627038081943517899787955369262389872089699024952456269239195791470768696361997616827751153899891284408983174449372194396821370070430502737645927152711817541371889768102730526047786541676916430244118054960171903046350205734127900802019906628638689537108246996197601013034536386090980772405224500812939165827088073747274743737665026763182790212616232621476806277939298489255318132423608831507358366464670154774963171362051147784526823485104827256782409933093993576845642180629761137507532715558294194482378012309564690949849611617381760967796354139962535157705258344293607259327815449724634118513580136797232379889786877536743453838033015989428675653728171343393314572382616459686525733677150340816333514098165958178653818121860160037200911424412252340604092194045800703811499394744863334000810098516828001583621691771508919107420260967272435563598092955464414064580903105124117049312945562171166415473327706470143251093184621651886883788664762111398919111103067751024443075070122767705799006383124534418371935392932742599971136406423208670033750180502750792876372772210054009458736955520049322432565594075483368897612722551578519224406324433790617095573527009136625012632285694907457676823650116944507670707913499872615189970919645234916587602228270277553548510337552642355799519380279764994471461678869621694547922389299372905366606252297693350250361669287973220511329254506595429729647101540496178203228201915716360471674957111403544038636780872155687590296414932658730888452056264965907888948004898495341511061683643177042227144225762932907218822912946727792978629110099361046450375890266565501011890564861041741455191874216069083427909988007635450763794249833554229082032763712957019943517624074266088311391592000579476633333439201030782767735279501188304717019233828632260041475803630990113876643318032201164216703693772996693189262903786966627203883345449384272468686148162069803950910108586371163899377050552656688929121026070982186894355540216232249313281934922291108696037348753553224111314611684128707598386468853607303812941892485574224057705730425243448354465314087425624932997020197038069636489705229446101082995651239050541923185413340001051922469311801635726977253668351543624113599858720042564388388647401243149470634972629562335530258657569375753663151752166874273885451487274213032131120429621710048525680326017469183209605443210905936285677796337125801859948018604918388806982113553893439679483593015003592641591120145418334153492009681692560316044731400813019416224640600037286919282822338850357651910147796100769359017116644928381880903486194360463038295689951133530116684026583214267183973801542756461961525869836144805967500144602164898825405111880274570032572678029655940913770592433934169418122438791097158268174736618608170613445415116204340901880140613472281164243309593784377840570682815731533274606227573284874006518778128462692281989523966776680414735838190281513402965007159141500104047898160112309535442654819730969913810960030971588983739441860970891671528631504440772564979940939931260675180889495582574097479516619268446766487625896081574942318630170562826042428072434294151862876477814796969831195733444016583374387902326179534348198789835619562783836790423967827710858523971508063126573977506482918358844429253208225379674809310661696423046116788391826926220802091188364180594044645289793476008570076988091369665822550187933908701093841545514743155427620851907396567273131174092365871740445757193524434831026317615320552243301609075874704005067549334924294776054520682375540703898902591167771574794654537527847782389820849817625294652142553007650414669320034693662071187059169559556537519727551763446976787365155436921603426310578488533029660236872826988872304982383058207902420751415163327643629373356413521211450468188351179959878552869672093177926356603932464298683637219426038386631059195935818551311483139956468472598923937418946958556221931721646673195729661883155891401134551717531414074601932319771233375449281134794873023905288123208451212365895104240364756318018532595997046496931917435491050828764135738029389642893817940210844922461214860145621271638212674402404386145123411630164354542954624636702996586951606272000000000000000000000000000000000000000000000000000000000000000000000000000000000000000000000000000000000000000000000000000000000000000000000000000000000000000000000000000000000000000000000000000000000000000000000000000000000000000000000000000000000000000000000000000000000000000000000000000000000000000000000000000000000000000000000000000000000000000000000000000000000000000000000000000000000000000000000000000000000000000000000000000000000000000000000000000000000000000000000000000000000000000000000000000000000000000000000000000000000000000000000000000000000000000000000000000000000000000000000000000000000000000000000000000000000000000000000000000000000000000000000000000000000000000000000000000000000000000000000000000000000000000\n"
     ]
    }
   ],
   "source": [
    "def myfact(num):\n",
    "    if num == 1:\n",
    "        return 1\n",
    "    return num * myfact(num-1)\n",
    "\n",
    "print(myfact(2950))"
   ]
  },
  {
   "cell_type": "markdown",
   "id": "6b204118",
   "metadata": {},
   "source": [
    "##### [문제 6. 설명]\n",
    "* factorial은 n! = n * (n-1)! 이기에 이를 함수 재귀를 통해 계산하도록 하였다.\n",
    "* myfact() 함수는 return num * myfact(num-1)을 해주면서 위 식을 만족하도록 하였다.\n",
    "* myfact(1) 일때는 return 1을 하도록 하여 N!이 계산되도록 하였다."
   ]
  },
  {
   "cell_type": "markdown",
   "id": "cee8ff32",
   "metadata": {},
   "source": [
    "#### 7. (서술형) import string 과 from string import * 의 차이점을 설명하시오."
   ]
  },
  {
   "cell_type": "markdown",
   "id": "de0569c7",
   "metadata": {},
   "source": [
    "##### [문제 7. 설명]\n",
    "* import 모듈은 해당 모듈을 전체를 가져오며, import만 사용하면 모듈 안의 함수를 사용할 때, 모듈명.함수명( )으로 한다.\n",
    "* from 모듈 import * 해당 모듈 내 모든 변수와 메소드를 가져오나 모듈명을 붙이지 않고 그대로 사용할 수 있다.\n"
   ]
  },
  {
   "cell_type": "markdown",
   "id": "469592ce",
   "metadata": {},
   "source": [
    "#### [Incremental Project 문제]\n",
    "이전 Assignment 3의 마지막 문제는 웹 URL로 지정된 웹페이지를 문자열로 가져와 모든 HTML 태그 및 CSS와 Javascript를 제외한 순수 텍스트를 얻어내고 그 안에 존재하는 단어를 추출하여 각 단어들에 대해 출현빈도를 사전형태({'world': 2, 'hello': 1, 'python': 1})로 저장하여 출력하는 것이었다. 이번에는 Assignment 3를 확장하여 다음과 같은 조건을 만족하도록 구현하시오.\n",
    "* 1) 다음 사이트에서 제시되는 불용어 (Stop words)를 참고하여 이전 숙제에서 구성했던 단어 사전에서 불용어들을 모두 제거하는 코드를 추가하시오.\n",
    "    * 영어 불용어: https://countwordsfree.com/stopwords\n",
    "        * 화면 상단 오른쪽 txt 파일 다운 받아 활용\n",
    "    * 한글 불용어: https://raw.githubusercontent.com/stopwords-iso/stopwords-ko/master/stopwords-ko.txt\n",
    "* 2) 각 URL로 지정된 웹페이지의 HTML 소스를 파일로 저장하시오.\n",
    "    * URL이 http://URL 이라면 파일명은 URL.html 이다.\n",
    "        * 예: URL이 http://www.cnn.com 이라면 파일명은 www.cnn.com.html 이다.\n",
    "* 3) 단어의 출현빈도가 담긴 사전 객체를 위 HTML 소스 파일과 동일한 폴더에 파일로 저장하시오.\n",
    "    * 파일입출력 (E-learning 13주차) 마지막에 학습한 pickle 모듈을 활용하시오.\n",
    "    * URL이 http://URL 이라면 사전 객체를 담고 있는 파일명은 URL.words_frequency.pickle 이다.\n",
    "        * 예: URL이 http://www.cnn.com 이라면 파일명은 www.cnn.com.words_frequency.pickle 이다.\n",
    "* 4) 최소 5개 이상의 웹 사이트 각각에 대한 HTML 소스 파일과 단어 출현빈도 파일을 저장하시오.\n",
    "    * 즉, 5개의 웹 사이트에 대해 총 10개의 파일을 동일한 폴더에 생성하시오.\n",
    "    * [주의] 가능하면 웹사이트에 단어들이 많고 다루는 주제가 서로 다른 웹 사이트들로 선정하는 것 추천\n",
    "* 5) 위 문제에서 저장한 모든 pickle 파일들을 객체로 다시 로드하여 본인이 저장하여 분석한 사이트들 각각에 대해서 가장 많이 출현한 단어 3개씩를 뽑아 제시하시오.\n",
    "    * 반드시 pickle 모듈로 저장한 5개 이상의 pickle 파일들을 다시 5개 이상의 사전 객체로 로드 하는 코드가 추가되어야 함\n",
    "* 6) 간단한 검색엔진 코딩 (Like Google!!!)\n",
    "    * 사용자에게 임의의 검색어 (하나 또는 여러 단어로 구성) 를 입력받으시오.\n",
    "        * 예:\n",
    "            * 대한민국\n",
    "            * 컴퓨터 공학\n",
    "            * 맛있는 음식\n",
    "            * 파이썬\n",
    "            * 한기대 장점\n",
    "    * 입력받은 검색어들에 대해서도 1)에서 제시하는 방법처럼 불용어 처리를 하여 정리\n",
    "    * 입력 받은 검색어와 유사도(Similarity)가 높은 웹 사이트 기준으로 위 4)에서 미리 지정해 놓은 5개 이상의 웹 사이트 URL들을 일렬로 나열하여 출력하시오.\n",
    "        * 검색어와 웹 사이트 간의 유사도는 본인이 스스로 정하시오.\n",
    "        * 유사도를 정하는 최소한의 기준은 단어 출현 빈도를 기반으로 해야 하며, 이외의 본인이 생각하는 방안이 있으면 함께 사용해도 됨.\n",
    "        * 유사도가 높은 웹 사이트가 상위에 출력되어야 함 (즉, 유사도 기준 내림 차순)\n",
    "        * 유사도가 동일한 웹 사이트들에 대해서는 임의 배치함.\n",
    "* 7) [주의] 필수사항\n",
    "    * 위에서 만든 검색엔진 코딩은 매우 간단한 것이라 부족한 점이 많이 존재한다.\n",
    "    * 본인이 생각하기에 상업적인 완성도 높은 검색 로봇/엔진이 되려면 어떤 기능들이 추가적으로 구현되어야 할지 최소 1가지 이상 제시하시오."
   ]
  },
  {
   "cell_type": "code",
   "execution_count": 77,
   "id": "888ce338",
   "metadata": {},
   "outputs": [],
   "source": [
    "import requests\n",
    "import re\n",
    "import string\n",
    "\n",
    "def print_pagewords(url):\n",
    "    req = requests.get(url)\n",
    "    \n",
    "\n",
    "    source = req.text\n",
    "    savebyhtml(source, url)\n",
    "\n",
    "    cheak = True\n",
    "\n",
    "    while cheak:\n",
    "        numA = source.find('<script')\n",
    "        numB = source.find('</script>')\n",
    "\n",
    "        source = source.replace(source[numA:numB+9], '')\n",
    "\n",
    "        if numA == -1:\n",
    "            cheak = False\n",
    "\n",
    "    cheak = True\n",
    "\n",
    "    while cheak:\n",
    "        numA = source.find('<style')\n",
    "        numB = source.find('</style>')\n",
    "\n",
    "        source = source.replace(source[numA:numB + 8], '')\n",
    "\n",
    "        if numA == -1:\n",
    "            cheak = False\n",
    "\n",
    "    cheak = True\n",
    "\n",
    "    while cheak:\n",
    "        numA = source.find('<url>')\n",
    "        numB = source.find('</url>')\n",
    "\n",
    "        source = source.replace(source[numA:numB + 6], '')\n",
    "\n",
    "        if numA == -1:\n",
    "            cheak = False\n",
    "            \n",
    "    cheak = True\n",
    "            \n",
    "    while cheak:\n",
    "        numA = source.find('<!--')\n",
    "        numB = source.find('-->')\n",
    "\n",
    "        source = source.replace(source[numA:numB + 3], '')\n",
    "\n",
    "        if numA == -1:\n",
    "            cheak = False\n",
    "\n",
    "    cheak = True\n",
    "\n",
    "    source = re.sub('<[^>]*>', ' ', source)\n",
    "    source = re.sub('&[^;]*;', ' ', source)\n",
    "    source = re.sub('@[^@]*@', ' ', source)\n",
    "    \n",
    "    \n",
    "    for rem_str in string.punctuation:\n",
    "            source = source.replace(rem_str, '')\n",
    "    \n",
    "    source = source.split(' ')        \n",
    "    source = ' '.join(source).split()\n",
    "    \n",
    "    \n",
    "    count_time = {}\n",
    "\n",
    "    for word in source:\n",
    "        if word in count_time:\n",
    "            count_time[word] += 1\n",
    "        else:\n",
    "            count_time[word] = 1\n",
    "    \n",
    "    remStopEng(count_time)\n",
    "    remStopKor(count_time)\n",
    "    savebypickle(url, count_time)\n",
    "\n",
    "    #print(count_time)\n"
   ]
  },
  {
   "cell_type": "markdown",
   "id": "a3836c81",
   "metadata": {},
   "source": [
    "##### [문제 Incremental Project . 설명]\n",
    "* 일전에 만들어놓은 빈도 사전 생성 함수이다. 웹페이지 URL을 받아 빈도 사전을 만드는 기능을 하지만 이번에는 3가지의 기능이 추가되었다.\n",
    "* 첫번째는 영어 불용어 삭제 기능이다. 아래 함수에서 다루겠지만 빈도 사전에 있는 영어 불용어를 삭제하는 기능을 한다.\n",
    "* 두번째는 한글 불용어 삭제 기능이다. 이 역시 빈도 사전에 있는 한글 불용어를 삭제하게된다.\n",
    "* 세번째는 빈도 사전 객체 파일로 저장하는 savebypickle 함수이다. URL 주소와 빈도 사전을 받아 www.cnn.com.words_frequency.pickle 와 같은 파일의 형태로 저장하게 된다."
   ]
  },
  {
   "cell_type": "code",
   "execution_count": 78,
   "id": "79a2c2e7",
   "metadata": {
    "scrolled": false
   },
   "outputs": [],
   "source": [
    "def remStopEng(counttime):\n",
    "    reqEng = requests.get(\"https://raw.githubusercontent.com/leeahwi/k_t_Assignment/main/txt/stop_words_english\").text.split('\\n')\n",
    "    for word in reqEng:\n",
    "        if counttime.get(word):\n",
    "            del counttime[word]\n",
    "        if counttime.get(word.title()):\n",
    "            del counttime[word.title()]\n",
    "        if counttime.get(word.upper()):\n",
    "            del counttime[word.upper()]\n",
    "        if counttime.get(word.lower()):\n",
    "            del counttime[word.lower()]\n",
    "\n",
    "def remStopKor(counttime):\n",
    "    reqKor = requests.get(\"https://raw.githubusercontent.com/leeahwi/k_t_Assignment/main/txt/stop_words_korean.txt\").text.split('\\n')\n",
    "    for word in reqKor:\n",
    "        if counttime.get(word.strip()):\n",
    "            del counttime[word.strip()]"
   ]
  },
  {
   "cell_type": "markdown",
   "id": "72cfd2b5",
   "metadata": {},
   "source": [
    "##### [문제 Incremental Project . 설명]\n",
    "* 이 두 함수는 각 영어 불용어 제거하는 remStopEng 함수와 remStopKor 함수이다.\n",
    "* 첫번째인 영어 불용어 삭제 함수는 먼저 영어 불용어가 들어있는 txt 파일이 있는 github에서 request를 통해 얻어낸 html text를 줄바꿈 '\\n' 을 기준으로 나누었다. 각 불용어는 한줄에 하나씩 들어가 있기에 줄바꿈 문자 기준으로 split 하였다. 그 뒤 reqEng에는 불용어 단어들이 들어있는데 이를 하나씩 꺼내써 4번에 걸쳐 빈도 사전에 불용어 삭제를 하였다.\n",
    "* 첫번째로는 단어 그자체로 사전에 검색해서 있을경우 삭제하도록 하였고, 두번째로는 앞글자만 대문자로 바꾼 불용어로 검색하여 존재할시 삭제하도록 하였다. 이는 맨 앞으로 단어가 올시에 대문자로 쓰이는 영어의 문법을 고려한 점이다. 세번째로는 대문자로 이루어져 있는 단어로 사전에 존재할 가능성이 있어 삭제할 단어를 대문자로 바꾼뒤 사전에 존재할 시 삭제를 하였다. 마지막으로는 소문자로 다 바꿔준뒤 검색해서 삭제하였다. 불용어를 보면 소문자로 이루어져 있었지만 예외는 존재할 수 있을거라 판단해 삭제를 해주었다.\n",
    "* 한글 불용어 삭제 함수인 remStopKor 경우 한글에는 대문자 소문자라는 문법이 없고 단지 단어 앞뒤에 있는 \\r 문자를 제거해주기위해 word.strip()으로 사전에서 검색한뒤 삭제를 하였다. 불용어 단어 리스트를 얻는 과정은 영어 불용어 때와 같게 request를 통한 한글 불용어 단어가 저장되어 있는 txt 파일 주소를 통해 얻어내었다."
   ]
  },
  {
   "cell_type": "code",
   "execution_count": 79,
   "id": "6d64f73a",
   "metadata": {},
   "outputs": [],
   "source": [
    "def savebyhtml(source, url):\n",
    "    idx = url.find('//')\n",
    "    with open(url[idx+2:]+'.html','w',encoding='UTF-8') as f:\n",
    "        lines = source.split('\\n')\n",
    "        for line in lines:\n",
    "            f.write(line)\n",
    "            f.write(\"\\n\")\n"
   ]
  },
  {
   "cell_type": "markdown",
   "id": "151f4900",
   "metadata": {},
   "source": [
    "##### [문제 Incremental Project . 설명]\n",
    "* request를 통해 불러온 웹페이지를 html 파일로 저장하는 savebyhtml 함수이다. \n",
    "* www.cnn.com.html 와같은 파일이름 형태로 저장하기위해 find('//')를 통해 www.~ 시작하는 인덱스의 -2 번째 자리를 알수 있었고 파일 만들때는 url[idx+2]를 통해 www.~~ 의 이름을 얻어낸뒤 .html을 뒤에 붙여주었다. 인코딩시 글자가 깨지는걸 방지하기위해 인코딩 방식을 UTF-8로 지정하였다. 그 뒤는 request를 통해 불러온 source 즉 웹페이지의 html의 text 문자열을 각 라인별로 나누어 파일에 write 하였고"
   ]
  },
  {
   "cell_type": "code",
   "execution_count": 86,
   "id": "fb7027c3",
   "metadata": {},
   "outputs": [],
   "source": [
    "import pickle\n",
    "\n",
    "def savebypickle(url, counttime):\n",
    "    idx = url.find('//')\n",
    "    with open(f\"{url[idx+2:]}.words_frequency.pickle\",'wb') as f:\n",
    "        pickle.dump(counttime, f)\n",
    "\n",
    "def readpickli(url):\n",
    "    idx = url.find('//')\n",
    "    with open(f\"{url[idx+2:]}.words_frequency.pickle\",\"rb\") as fr:\n",
    "        data = pickle.load(fr)\n",
    "        return data"
   ]
  },
  {
   "cell_type": "markdown",
   "id": "fdb5efbd",
   "metadata": {},
   "source": [
    "##### [문제 Incremental Project . 설명]\n",
    "* 위 코드는 빈도 사전을 pickle 파일로 저장하는 기능을 하는 함수 savebypickle이다. www.cnn.com.words_frequency.pickle 와 같은 형태로 저장하기위해 find를 활용해 www 가 시작하는 인덱스를 얻어내 파일 이름을 조건의 형태로 맞추었으며 pickle 모듈의 dump 메소드를 통해 빈도 사전을 파일 형태로 저장하였다.\n",
    "* pickle 파일 읽어 빈도 사전 데이터를 반환하는 함수인 readpickli 함수이다. 이 함수는 이름을 위 savebypickle 에서 썻던 방법과 유사하게 find 를 활용해 열 파일 이름을 지정하였으며 pickle 모듈의 load 함수를 통해 사전객체를 얻을 수 있었다."
   ]
  },
  {
   "cell_type": "code",
   "execution_count": 87,
   "id": "e5ed5190",
   "metadata": {},
   "outputs": [],
   "source": [
    "def printhighest3(url): \n",
    "    dict_time = readpickli(url)\n",
    "    \n",
    "    word_list = sorted(dict_time.items(), key=lambda x: x[1], reverse=True)\n",
    "    \n",
    "    print(word_list[:3])"
   ]
  },
  {
   "cell_type": "markdown",
   "id": "4c6dd5a6",
   "metadata": {},
   "source": [
    "##### [문제 Incremental Project . 설명]\n",
    "* 위 printhighest3 함수는 지정한 URL 페이지의 readpickli 함수를 통해 얻어낸 빈도 사전을 빈도수를 기준으로 정렬한뒤 가장 빈도가 높은 단어 3개를 출력하는 함수이다."
   ]
  },
  {
   "cell_type": "code",
   "execution_count": 88,
   "id": "42010b44",
   "metadata": {},
   "outputs": [],
   "source": [
    "def similarity(url, findkey):\n",
    "    \n",
    "    dict_time = readpickli(url)\n",
    "    \n",
    "    reqKor = requests.get(\"https://raw.githubusercontent.com/leeahwi/k_t_Assignment/main/txt/stop_words_korean.txt\").text.split('\\n')\n",
    "    reqEng = requests.get(\"https://raw.githubusercontent.com/leeahwi/k_t_Assignment/main/txt/stop_words_english\").text.split('\\n')\n",
    "\n",
    "    findkeylist = findkey.split()\n",
    "    \n",
    "    for key in findkeylist:\n",
    "        if key in reqKor:\n",
    "            findkeylist.remove(key)\n",
    "            \n",
    "    for key in findkeylist:\n",
    "        if key in reqEng:\n",
    "            findkeylist.remove(key)\n",
    "            \n",
    "    findkey = findkeylist[0]\n",
    "    \n",
    "    result = []\n",
    "    default = 100 / len(findkey)\n",
    "    for word in dict_time.keys():\n",
    "        idx = word.find(findkey)\n",
    "        lendist1 = float(len(findkey)/len(word))\n",
    "        lendist2 = 1/ (1+idx) if idx != -1 else 0\n",
    "        result.append((word,lendist1*lendist2*(default * len(findkey)) / 100))\n",
    "        \n",
    "    return sorted(result, key=lambda x: x[1], reverse=True)\n",
    "\n",
    "    "
   ]
  },
  {
   "cell_type": "markdown",
   "id": "d35a488d",
   "metadata": {},
   "source": [
    "##### [문제 Incremental Project . 설명]\n",
    "* 위 similarity 함수는 만든 유사도 함수이다. readpickli 함수를 통해 빈도 사전을 얻어낸 뒤에 검색할 findkey 단어를 공백 기준 나눈뒤에 불용어 사전을 통해 검색한뒤 불용어 삭제를 해주었다. 위 유사도 함수는 여러개의 단어를 입력했더라도 불용어 삭제뒤에 남은 단어들중 가장 앞에 있는 단어를 기준으로 검색을 하게 된다.\n",
    "* 위 유사도 점수 계산은 1. 검색 단어와 빈도 사전내의 단어의 길이의 차이가 나는 만큼 유사도의 점수는 줄어든다. 2. 검색단어를 포함하고 있는 단어는 점수를 받는다. 단 앞에 위치해서 포함하고 있을수록 높은 점수를 부여받는다. 3. 단어와 완전히 일치할시 1점을 받는다.\n",
    "* 마지막으로는 sorted 함수를 통해 유사도가 높은 단어를 먼저 오도록 정렬해주었다."
   ]
  },
  {
   "cell_type": "code",
   "execution_count": 89,
   "id": "b4ea1704",
   "metadata": {},
   "outputs": [
    {
     "name": "stdout",
     "output_type": "stream",
     "text": [
      "\n",
      "\n",
      "\n",
      "\n"
     ]
    }
   ],
   "source": [
    "print_pagewords('https://www.daum.net')\n",
    "print()\n",
    "print_pagewords('https://www.koreatech.ac.kr')\n",
    "print()\n",
    "print_pagewords('https://www.naver.com')\n",
    "print()\n",
    "print_pagewords('http://cse.koreatech.ac.kr')\n",
    "print()\n",
    "print_pagewords('http://www.nytimes.com')"
   ]
  },
  {
   "cell_type": "markdown",
   "id": "f43c5781",
   "metadata": {},
   "source": [
    "##### [문제 Incremental Project . 설명]\n",
    "* 위 코드는 일전에 Assignment3에서 구현한 내용에 불용어 삭제기능, 빈도 사전 pickle 로 저장기능 까지 추가한 print_pagewords 함수이다. 위 함수 호출로 5개의 웹페이지의 빈도 사전을 만든뒤 사전에서 불용어 삭제를 하고 그 뒤 www.cnn.com.words_frequency.pickle 의 형태로 빈도 사전을 저장시켰다"
   ]
  },
  {
   "cell_type": "code",
   "execution_count": 90,
   "id": "a15ba5ef",
   "metadata": {},
   "outputs": [
    {
     "name": "stdout",
     "output_type": "stream",
     "text": [
      "[('날씨', 21), ('°C', 20), ('맑음', 19)]\n",
      "\n",
      "[('한국기술교육대학교', 12), ('대학', 8), ('KOREATECH', 8)]\n",
      "\n",
      "[('영화', 89), ('전', 80), ('씨네플레이', 35)]\n",
      "\n",
      "[('Error', 1), ('404', 1), ('Oops', 1)]\n",
      "\n",
      "[('York', 26), ('Times', 26), ('NY', 7)]\n"
     ]
    }
   ],
   "source": [
    "printhighest3('https://www.daum.net')\n",
    "print()\n",
    "printhighest3('https://www.koreatech.ac.kr')\n",
    "print()\n",
    "printhighest3('https://www.naver.com')\n",
    "print()\n",
    "printhighest3('http://cse.koreatech.ac.kr')\n",
    "print()\n",
    "printhighest3('http://www.nytimes.com')"
   ]
  },
  {
   "cell_type": "markdown",
   "id": "dce35f62",
   "metadata": {},
   "source": [
    "##### [문제 Incremental Project . 설명]\n",
    "* 위 코드는 빈도 사전 데이터가 저장된 pickle 파일을 읽어 이를 빈도를 기준으로 내림차순 정렬한 리스트를 얻어낸뒤 앞에서 부터 3개의 요소를 출력하게끔한 코드이다.\n",
    "* 출력 결과를 보면 알 수 있듯이 각 웹페이지의 불용어를 제외한 빈도 사전중 빈도 높은 3개의 항목이 출력된 것을 볼 수 있다."
   ]
  },
  {
   "cell_type": "code",
   "execution_count": 91,
   "id": "026bc3e6",
   "metadata": {},
   "outputs": [
    {
     "name": "stdout",
     "output_type": "stream",
     "text": [
      "검색할 단어: 날씨\n",
      "https://www.daum.net\n",
      "https://www.koreatech.ac.kr\n",
      "https://www.naver.com\n",
      "http://cse.koreatech.ac.kr\n",
      "http://www.nytimes.com\n"
     ]
    }
   ],
   "source": [
    "search = input(\"검색할 단어: \")\n",
    "\n",
    "similarlist = {}\n",
    "similarlist['https://www.daum.net'] = similarity('https://www.daum.net',search)\n",
    "similarlist['https://www.koreatech.ac.kr'] = similarity('https://www.koreatech.ac.kr',search)\n",
    "similarlist['https://www.naver.com'] = similarity('https://www.naver.com',search)\n",
    "similarlist['http://cse.koreatech.ac.kr'] = similarity('http://cse.koreatech.ac.kr',search)\n",
    "similarlist['http://www.nytimes.com'] = similarity('http://www.nytimes.com',search)\n",
    "\n",
    "\n",
    "result = sorted(similarlist.items(), key = lambda x:x[1][0][1], reverse=True)\n",
    "\n",
    "for i in range(5):\n",
    "    print(result[i][0])\n"
   ]
  },
  {
   "cell_type": "markdown",
   "id": "42ecd6f0",
   "metadata": {},
   "source": [
    "##### [문제 Incremental Project . 설명]\n",
    "* 위 코드는 사용자에게 검색할 단어를 입력 받은 다음 5개의 웹페이지항목에 대해 similarity 유사도 함수에 유사도 체크를 하게된다. 이 결과를 similarlist 사전에 URL:URL의 유사도 리스트 형태로 저장되며 이를 sorted 함수의 key값을 각 첫번째 단어가 가장 그 웹페이지 단어들중 유사도가 가장 높게 미리 정렬을 해놨기에 그 위치를 기준으로 lambda 함수로 지정하여 가장 높은 유사도를 기준으로 5개의 웹페이지를 정렬하였다.\n",
    "* 그 후 가장 높은 유사도를 가진 웹페이지부터 URL 출력되게 하였다."
   ]
  },
  {
   "cell_type": "markdown",
   "id": "4b14c5cb",
   "metadata": {},
   "source": [
    "##### [문제 Incremental Project . 설명]\n",
    "* 위의 코드의 경우 단순히 입력받은 단어가 들어있는 단어를 찾아 앞에 있을 수록 유사도가 높다고 판단했다.\n",
    "* 위의 유사도의 경우 입력받은 단어와 길이와 내용이 같은 단어가 있으면 1점을 부여하였고, 입력받은 단어와 단어의 길이가 차이날수록 유사도를 줄였다. 또한 입력받은 단어를 포함하고 있는 단어의 경우 입력받은 단어가 최대한 앞쪽에 있을 수록 높은 유사도 점수를 부여했다.\n",
    "* 따라서 똑같지 않은 단어중에 유사도를 높게 산정받기 위해서는 검색단어와 길이가 적어야 하고 검색단어를 앞쪽에 포함하고 있으면 높은 유사도 점수를 받게 된다. (유사도는 0~1점 사이로 부여했다.\n",
    "* 위 유사도는 단순히 검색 단어의 포함 여부에 따라 가중치를 달리하여 계산하였기에 부족함이 많다.\n",
    "* 위 프로그램에는 유사도 뿐만이 아니라 상업적으로 이용하기위해 사용자의 다음 검색단어 또는 검색한뒤의 활동을 통계내어 연관 검색어를 찾을 수 있어야 좋은 프로그램이 될것이다.\n",
    "* 사람들이 단순히 단어 검색으로 그 단어와 비슷한 단어를 찾는다기 보단 관련 분야 내용을 전부다 찾는 것일 수 도 있으며 연관지어 떠올린 내용을 검색할 수도 있기에 빅데이터 기반한 연관검색어 기능이 있어야 한다고 생각한다."
   ]
  },
  {
   "cell_type": "markdown",
   "id": "f2efa272",
   "metadata": {},
   "source": [
    "##### [소감]\n",
    "* 다른 문제는 그렇게 어려웠다기 보다는 구현을 신경써서 하면 금방 했던 문제였지만 유사도를 만드는 작업은 쉽지않았다. 어떤 기준으로 유사도를 두어 만들어야 할지 고민을 했었고 고민끝에 성공적으로 만들었으나 부족함이 많은 기능이었다.\n",
    "* 다소 아쉬운 마무리였지만 점점 과제를 거듭해가며 기능이 추가되는 project를 볼때 성취감은 있었다고 생각한다."
   ]
  }
 ],
 "metadata": {
  "kernelspec": {
   "display_name": "Python 3",
   "language": "python",
   "name": "python3"
  },
  "language_info": {
   "codemirror_mode": {
    "name": "ipython",
    "version": 3
   },
   "file_extension": ".py",
   "mimetype": "text/x-python",
   "name": "python",
   "nbconvert_exporter": "python",
   "pygments_lexer": "ipython3",
   "version": "3.8.8"
  }
 },
 "nbformat": 4,
 "nbformat_minor": 5
}
